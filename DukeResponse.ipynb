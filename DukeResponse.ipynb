{
  "cells": [
    {
      "cell_type": "markdown",
      "source": [
        "#Analysis of Response to Neoadjuvant Treatment in Breast Cancer Using Deep Networks\n",
        "\n",
        "\n",
        "---\n",
        "\n",
        "\n",
        "\n"
      ],
      "metadata": {
        "id": "7MWaLoUs56cN"
      }
    },
    {
      "cell_type": "markdown",
      "source": [
        "## Download data"
      ],
      "metadata": {
        "id": "W5zaS4Gz6cqI"
      }
    },
    {
      "cell_type": "code",
      "execution_count": null,
      "metadata": {
        "colab": {
          "base_uri": "https://localhost:8080/"
        },
        "id": "yT6snb19Nncx",
        "outputId": "7c97f372-cf85-47ea-d79c-343dbefd2560"
      },
      "outputs": [
        {
          "output_type": "stream",
          "name": "stdout",
          "text": [
            "/usr/local/lib/python3.7/dist-packages/gdown/cli.py:131: FutureWarning: Option `--id` was deprecated in version 4.3.1 and will be removed in 5.0. You don't need to pass it anymore to use a file ID.\n",
            "  category=FutureWarning,\n",
            "Downloading...\n",
            "From: https://drive.google.com/uc?id=1JGqP5oL6xqb5-vfhLFcYwzEDufExehQV\n",
            "To: /content/DukeTestPre.zip\n",
            "100% 59.1M/59.1M [00:01<00:00, 37.7MB/s]\n"
          ]
        }
      ],
      "source": [
        "import zipfile\n",
        "\n",
        "# Download data from google drive\n",
        "!gdown --id 1JGqP5oL6xqb5-vfhLFcYwzEDufExehQV\n",
        "local_zip = './DukeDataFinal.zip'\n",
        "\n",
        "# Trained model 1\n",
        "#!gdown --id 1MI4RpeXbRvnE2Qrp-qmSsPIVZOtTNRnx\n",
        "#model_file_name = './DukeResponse-model_1.h5'\n",
        "\n",
        "# Trained model 2\n",
        "#!gdown --id 16UdQ0sLKfowUkhy1PPn72q4fE-tZo9EF\n",
        "#model_file_name = './DukeResponse-model_2.h5'\n",
        "\n",
        "# Trained model 3\n",
        "#!gdown --id 17g37f6_erDF7HpT5w9TMAy20W5gYjwe8\n",
        "#model_file_name = './DukeResponse-model_3.h5'\n",
        "\n",
        "zip_ref = zipfile.ZipFile(local_zip, 'r')\n",
        "zip_ref.extractall('./')\n",
        "zip_ref.close()"
      ]
    },
    {
      "cell_type": "markdown",
      "source": [
        "Download clinical data"
      ],
      "metadata": {
        "id": "BZyv2fbd7nRp"
      }
    },
    {
      "cell_type": "code",
      "execution_count": null,
      "metadata": {
        "colab": {
          "base_uri": "https://localhost:8080/"
        },
        "id": "xHzUl0xHstDe",
        "outputId": "18887b8d-1acc-4a19-bd03-f77cde40f112"
      },
      "outputs": [
        {
          "output_type": "stream",
          "name": "stdout",
          "text": [
            "/usr/local/lib/python3.7/dist-packages/gdown/cli.py:131: FutureWarning: Option `--id` was deprecated in version 4.3.1 and will be removed in 5.0. You don't need to pass it anymore to use a file ID.\n",
            "  category=FutureWarning,\n",
            "Downloading...\n",
            "From: https://drive.google.com/uc?id=1nktATqZeAchrD8595mNVrGErwQzoW87y\n",
            "To: /content/DukeClinicalFeatures.xlsx\n",
            "100% 393k/393k [00:00<00:00, 107MB/s]\n"
          ]
        }
      ],
      "source": [
        "!gdown --id 1nktATqZeAchrD8595mNVrGErwQzoW87y"
      ]
    },
    {
      "cell_type": "markdown",
      "source": [
        "## Libraries"
      ],
      "metadata": {
        "id": "WjihzS2F7iRT"
      }
    },
    {
      "cell_type": "code",
      "execution_count": null,
      "metadata": {
        "colab": {
          "base_uri": "https://localhost:8080/"
        },
        "id": "7cCxCIwIeZH1",
        "outputId": "639adb78-576a-4acf-a7ce-8d1e987f49ea"
      },
      "outputs": [
        {
          "output_type": "stream",
          "name": "stdout",
          "text": [
            "Looking in indexes: https://pypi.org/simple, https://us-python.pkg.dev/colab-wheels/public/simple/\n",
            "Collecting scikit-plot\n",
            "  Downloading scikit_plot-0.3.7-py3-none-any.whl (33 kB)\n",
            "Requirement already satisfied: joblib>=0.10 in /usr/local/lib/python3.7/dist-packages (from scikit-plot) (1.1.0)\n",
            "Requirement already satisfied: scikit-learn>=0.18 in /usr/local/lib/python3.7/dist-packages (from scikit-plot) (1.0.2)\n",
            "Requirement already satisfied: matplotlib>=1.4.0 in /usr/local/lib/python3.7/dist-packages (from scikit-plot) (3.2.2)\n",
            "Requirement already satisfied: scipy>=0.9 in /usr/local/lib/python3.7/dist-packages (from scikit-plot) (1.7.3)\n",
            "Requirement already satisfied: python-dateutil>=2.1 in /usr/local/lib/python3.7/dist-packages (from matplotlib>=1.4.0->scikit-plot) (2.8.2)\n",
            "Requirement already satisfied: pyparsing!=2.0.4,!=2.1.2,!=2.1.6,>=2.0.1 in /usr/local/lib/python3.7/dist-packages (from matplotlib>=1.4.0->scikit-plot) (3.0.9)\n",
            "Requirement already satisfied: cycler>=0.10 in /usr/local/lib/python3.7/dist-packages (from matplotlib>=1.4.0->scikit-plot) (0.11.0)\n",
            "Requirement already satisfied: numpy>=1.11 in /usr/local/lib/python3.7/dist-packages (from matplotlib>=1.4.0->scikit-plot) (1.21.6)\n",
            "Requirement already satisfied: kiwisolver>=1.0.1 in /usr/local/lib/python3.7/dist-packages (from matplotlib>=1.4.0->scikit-plot) (1.4.4)\n",
            "Requirement already satisfied: typing-extensions in /usr/local/lib/python3.7/dist-packages (from kiwisolver>=1.0.1->matplotlib>=1.4.0->scikit-plot) (4.1.1)\n",
            "Requirement already satisfied: six>=1.5 in /usr/local/lib/python3.7/dist-packages (from python-dateutil>=2.1->matplotlib>=1.4.0->scikit-plot) (1.15.0)\n",
            "Requirement already satisfied: threadpoolctl>=2.0.0 in /usr/local/lib/python3.7/dist-packages (from scikit-learn>=0.18->scikit-plot) (3.1.0)\n",
            "Installing collected packages: scikit-plot\n",
            "Successfully installed scikit-plot-0.3.7\n"
          ]
        }
      ],
      "source": [
        "!pip install scikit-plot"
      ]
    },
    {
      "cell_type": "markdown",
      "source": [
        "Imports"
      ],
      "metadata": {
        "id": "JWN3KTXU7skR"
      }
    },
    {
      "cell_type": "code",
      "execution_count": null,
      "metadata": {
        "id": "TPRzQ-LOOFfg"
      },
      "outputs": [],
      "source": [
        "import tensorflow as tf\n",
        "import os\n",
        "import pathlib\n",
        "import matplotlib.pyplot as plt\n",
        "import numpy as np\n",
        "from sklearn import metrics\n",
        "import cv2\n",
        "import random\n",
        "from tensorflow.keras.layers.experimental import preprocessing\n",
        "from google.colab.patches import cv2_imshow\n",
        "from tensorflow.keras import datasets\n",
        "import time\n",
        "import math\n",
        "import pandas as pd\n",
        "import random\n",
        "from sklearn.preprocessing import LabelBinarizer\n",
        "from sklearn.preprocessing import MinMaxScaler\n",
        "from scipy import stats\n",
        "import glob\n",
        "import scikitplot as skplt\n",
        "import pathlib\n",
        "import json\n",
        "from google.colab import files as fs"
      ]
    },
    {
      "cell_type": "markdown",
      "source": [
        "## Reproducible results"
      ],
      "metadata": {
        "id": "P9fV0yCi7wEA"
      }
    },
    {
      "cell_type": "code",
      "execution_count": null,
      "metadata": {
        "id": "FW7lEY7WDtau"
      },
      "outputs": [],
      "source": [
        "# SET SEEDS\n",
        "_seed = 256\n",
        "os.environ['PYTHONHASHSEED'] = str(_seed)\n",
        "random.seed(_seed)\n",
        "np.random.seed(_seed)\n",
        "tf.random.set_seed(_seed)\n",
        "\n",
        "# DEFINE DETERMINISTIC\n",
        "os.environ['TF_DETERMINISTIC_OPS'] = '1'\n",
        "os.environ['TF_CUDNN_DETERMINISTIC'] = '1'\n",
        "\n",
        "# DEFINE PARALLELISM\n",
        "tf.config.threading.set_inter_op_parallelism_threads(1)\n",
        "tf.config.threading.set_intra_op_parallelism_threads(1)"
      ]
    },
    {
      "cell_type": "markdown",
      "source": [
        "## General variables and functions"
      ],
      "metadata": {
        "id": "bm0eAKV0HrtX"
      }
    },
    {
      "cell_type": "markdown",
      "source": [
        "### Read clinical data"
      ],
      "metadata": {
        "id": "ca7zZTAB7zLo"
      }
    },
    {
      "cell_type": "code",
      "execution_count": null,
      "metadata": {
        "id": "5BgWAVTus5Us"
      },
      "outputs": [],
      "source": [
        "_dataFrameClinical = pd.read_excel(\"DukeClinicalFeatures.xlsx\", header=1, skiprows=[2])"
      ]
    },
    {
      "cell_type": "markdown",
      "source": [
        "Clear clinical data"
      ],
      "metadata": {
        "id": "4w5r-PcQ724y"
      }
    },
    {
      "cell_type": "code",
      "execution_count": null,
      "metadata": {
        "colab": {
          "base_uri": "https://localhost:8080/"
        },
        "id": "FKbSkgpBth-9",
        "outputId": "2f1984c7-6962-4d9b-affd-12478f5e4989"
      },
      "outputs": [
        {
          "output_type": "stream",
          "name": "stdout",
          "text": [
            "<class 'pandas.core.frame.DataFrame'>\n",
            "RangeIndex: 922 entries, 0 to 921\n",
            "Data columns (total 8 columns):\n",
            " #   Column                               Non-Null Count  Dtype  \n",
            "---  ------                               --------------  -----  \n",
            " 0   Patient ID                           922 non-null    object \n",
            " 1   Race and Ethnicity                   922 non-null    float64\n",
            " 2   ER                                   922 non-null    float64\n",
            " 3   PR                                   922 non-null    float64\n",
            " 4   HER2                                 922 non-null    float64\n",
            " 5   Definitive Surgery Type              915 non-null    object \n",
            " 6   Mol Subtype                          922 non-null    float64\n",
            " 7   Lymphadenopathy or Suspicious Nodes  922 non-null    float64\n",
            "dtypes: float64(6), object(2)\n",
            "memory usage: 57.8+ KB\n"
          ]
        }
      ],
      "source": [
        "_dataFrameClinicalClean = _dataFrameClinical[['Patient ID','Race and Ethnicity','ER','PR','HER2','Definitive Surgery Type','Mol Subtype','Lymphadenopathy or Suspicious Nodes']]\n",
        "_dataFrameClinicalClean.info()"
      ]
    },
    {
      "cell_type": "code",
      "execution_count": null,
      "metadata": {
        "id": "_myJPzUPHn65"
      },
      "outputs": [],
      "source": [
        "_dataset = pd.concat([_dataFrameClinicalClean['Patient ID'], _dataFrameClinicalClean[['ER','PR','HER2']]], ignore_index=True, axis=1)#, pd.DataFrame(trainCategorical2), pd.DataFrame(trainContinuous)], ignore_index=True, axis=1)"
      ]
    },
    {
      "cell_type": "code",
      "execution_count": null,
      "metadata": {
        "colab": {
          "base_uri": "https://localhost:8080/",
          "height": 206
        },
        "id": "i4Vuny3Iy9sJ",
        "outputId": "2a70ae07-4f38-4dfd-ba17-d01ffddd7a32"
      },
      "outputs": [
        {
          "output_type": "execute_result",
          "data": {
            "text/plain": [
              "                0    1    2    3\n",
              "0  Breast_MRI_001  0.0  0.0  1.0\n",
              "1  Breast_MRI_002  0.0  0.0  0.0\n",
              "2  Breast_MRI_003  1.0  1.0  0.0\n",
              "3  Breast_MRI_004  1.0  1.0  0.0\n",
              "4  Breast_MRI_005  1.0  0.0  1.0"
            ],
            "text/html": [
              "\n",
              "  <div id=\"df-3da2961a-5b5f-4e11-8e05-b07c37340c2e\">\n",
              "    <div class=\"colab-df-container\">\n",
              "      <div>\n",
              "<style scoped>\n",
              "    .dataframe tbody tr th:only-of-type {\n",
              "        vertical-align: middle;\n",
              "    }\n",
              "\n",
              "    .dataframe tbody tr th {\n",
              "        vertical-align: top;\n",
              "    }\n",
              "\n",
              "    .dataframe thead th {\n",
              "        text-align: right;\n",
              "    }\n",
              "</style>\n",
              "<table border=\"1\" class=\"dataframe\">\n",
              "  <thead>\n",
              "    <tr style=\"text-align: right;\">\n",
              "      <th></th>\n",
              "      <th>0</th>\n",
              "      <th>1</th>\n",
              "      <th>2</th>\n",
              "      <th>3</th>\n",
              "    </tr>\n",
              "  </thead>\n",
              "  <tbody>\n",
              "    <tr>\n",
              "      <th>0</th>\n",
              "      <td>Breast_MRI_001</td>\n",
              "      <td>0.0</td>\n",
              "      <td>0.0</td>\n",
              "      <td>1.0</td>\n",
              "    </tr>\n",
              "    <tr>\n",
              "      <th>1</th>\n",
              "      <td>Breast_MRI_002</td>\n",
              "      <td>0.0</td>\n",
              "      <td>0.0</td>\n",
              "      <td>0.0</td>\n",
              "    </tr>\n",
              "    <tr>\n",
              "      <th>2</th>\n",
              "      <td>Breast_MRI_003</td>\n",
              "      <td>1.0</td>\n",
              "      <td>1.0</td>\n",
              "      <td>0.0</td>\n",
              "    </tr>\n",
              "    <tr>\n",
              "      <th>3</th>\n",
              "      <td>Breast_MRI_004</td>\n",
              "      <td>1.0</td>\n",
              "      <td>1.0</td>\n",
              "      <td>0.0</td>\n",
              "    </tr>\n",
              "    <tr>\n",
              "      <th>4</th>\n",
              "      <td>Breast_MRI_005</td>\n",
              "      <td>1.0</td>\n",
              "      <td>0.0</td>\n",
              "      <td>1.0</td>\n",
              "    </tr>\n",
              "  </tbody>\n",
              "</table>\n",
              "</div>\n",
              "      <button class=\"colab-df-convert\" onclick=\"convertToInteractive('df-3da2961a-5b5f-4e11-8e05-b07c37340c2e')\"\n",
              "              title=\"Convert this dataframe to an interactive table.\"\n",
              "              style=\"display:none;\">\n",
              "        \n",
              "  <svg xmlns=\"http://www.w3.org/2000/svg\" height=\"24px\"viewBox=\"0 0 24 24\"\n",
              "       width=\"24px\">\n",
              "    <path d=\"M0 0h24v24H0V0z\" fill=\"none\"/>\n",
              "    <path d=\"M18.56 5.44l.94 2.06.94-2.06 2.06-.94-2.06-.94-.94-2.06-.94 2.06-2.06.94zm-11 1L8.5 8.5l.94-2.06 2.06-.94-2.06-.94L8.5 2.5l-.94 2.06-2.06.94zm10 10l.94 2.06.94-2.06 2.06-.94-2.06-.94-.94-2.06-.94 2.06-2.06.94z\"/><path d=\"M17.41 7.96l-1.37-1.37c-.4-.4-.92-.59-1.43-.59-.52 0-1.04.2-1.43.59L10.3 9.45l-7.72 7.72c-.78.78-.78 2.05 0 2.83L4 21.41c.39.39.9.59 1.41.59.51 0 1.02-.2 1.41-.59l7.78-7.78 2.81-2.81c.8-.78.8-2.07 0-2.86zM5.41 20L4 18.59l7.72-7.72 1.47 1.35L5.41 20z\"/>\n",
              "  </svg>\n",
              "      </button>\n",
              "      \n",
              "  <style>\n",
              "    .colab-df-container {\n",
              "      display:flex;\n",
              "      flex-wrap:wrap;\n",
              "      gap: 12px;\n",
              "    }\n",
              "\n",
              "    .colab-df-convert {\n",
              "      background-color: #E8F0FE;\n",
              "      border: none;\n",
              "      border-radius: 50%;\n",
              "      cursor: pointer;\n",
              "      display: none;\n",
              "      fill: #1967D2;\n",
              "      height: 32px;\n",
              "      padding: 0 0 0 0;\n",
              "      width: 32px;\n",
              "    }\n",
              "\n",
              "    .colab-df-convert:hover {\n",
              "      background-color: #E2EBFA;\n",
              "      box-shadow: 0px 1px 2px rgba(60, 64, 67, 0.3), 0px 1px 3px 1px rgba(60, 64, 67, 0.15);\n",
              "      fill: #174EA6;\n",
              "    }\n",
              "\n",
              "    [theme=dark] .colab-df-convert {\n",
              "      background-color: #3B4455;\n",
              "      fill: #D2E3FC;\n",
              "    }\n",
              "\n",
              "    [theme=dark] .colab-df-convert:hover {\n",
              "      background-color: #434B5C;\n",
              "      box-shadow: 0px 1px 3px 1px rgba(0, 0, 0, 0.15);\n",
              "      filter: drop-shadow(0px 1px 2px rgba(0, 0, 0, 0.3));\n",
              "      fill: #FFFFFF;\n",
              "    }\n",
              "  </style>\n",
              "\n",
              "      <script>\n",
              "        const buttonEl =\n",
              "          document.querySelector('#df-3da2961a-5b5f-4e11-8e05-b07c37340c2e button.colab-df-convert');\n",
              "        buttonEl.style.display =\n",
              "          google.colab.kernel.accessAllowed ? 'block' : 'none';\n",
              "\n",
              "        async function convertToInteractive(key) {\n",
              "          const element = document.querySelector('#df-3da2961a-5b5f-4e11-8e05-b07c37340c2e');\n",
              "          const dataTable =\n",
              "            await google.colab.kernel.invokeFunction('convertToInteractive',\n",
              "                                                     [key], {});\n",
              "          if (!dataTable) return;\n",
              "\n",
              "          const docLinkHtml = 'Like what you see? Visit the ' +\n",
              "            '<a target=\"_blank\" href=https://colab.research.google.com/notebooks/data_table.ipynb>data table notebook</a>'\n",
              "            + ' to learn more about interactive tables.';\n",
              "          element.innerHTML = '';\n",
              "          dataTable['output_type'] = 'display_data';\n",
              "          await google.colab.output.renderOutput(dataTable, element);\n",
              "          const docLink = document.createElement('div');\n",
              "          docLink.innerHTML = docLinkHtml;\n",
              "          element.appendChild(docLink);\n",
              "        }\n",
              "      </script>\n",
              "    </div>\n",
              "  </div>\n",
              "  "
            ]
          },
          "metadata": {},
          "execution_count": 20
        }
      ],
      "source": [
        "_dataset.head()"
      ]
    },
    {
      "cell_type": "markdown",
      "source": [
        "### Hyper parameters and global variables"
      ],
      "metadata": {
        "id": "OnlB1IVL8ASx"
      }
    },
    {
      "cell_type": "code",
      "execution_count": null,
      "metadata": {
        "id": "GEOqmimkP0Gw"
      },
      "outputs": [],
      "source": [
        "# Input resize dimensions\n",
        "input_dims = (64, 64)\n",
        "\n",
        "# Input network shape\n",
        "input_shape = (64, 64, 3)\n",
        "\n",
        "# Batch size\n",
        "batch_size = 64\n",
        "\n",
        "# Epochs\n",
        "epochs = 50\n",
        "\n",
        "# Initial learning rate\n",
        "lr = 0.0001\n",
        "\n",
        "# Data augmentation repetition\n",
        "repeat = 30\n",
        "\n",
        "# Training stop patience\n",
        "patience = 8\n",
        "\n",
        "# Clinical data input network size\n",
        "dense_input = len(_dataset.columns) - 1"
      ]
    },
    {
      "cell_type": "markdown",
      "source": [
        "### Read images function"
      ],
      "metadata": {
        "id": "V6idBNip8g7u"
      }
    },
    {
      "cell_type": "code",
      "execution_count": null,
      "metadata": {
        "id": "9n8_60EPy8Wl"
      },
      "outputs": [],
      "source": [
        "def read_files(fileName):\n",
        "  \"\"\"Read file\n",
        "\n",
        "    Args:\n",
        "        fileName: the name of the file.\n",
        "\n",
        "    Returns:\n",
        "        image matrix, filename and label\n",
        "  \"\"\"\n",
        "\n",
        "  # Get file name\n",
        "  label = tf.strings.split(fileName, os.sep)[-2]\n",
        "\n",
        "  # Read file\n",
        "  image = tf.io.read_file(fileName)\n",
        "\n",
        "  # Decode as image\n",
        "  image = tf.io.decode_jpeg(image, channels=input_shape[2])\n",
        "\n",
        "  # Resize\n",
        "  image = tf.image.resize(image, input_dims)\n",
        "\n",
        "  return image, fileName, 1 if label == b'pcr' else 0"
      ]
    },
    {
      "cell_type": "markdown",
      "source": [
        "### Read tabular clinical data"
      ],
      "metadata": {
        "id": "zVAy-Ckv9VQw"
      }
    },
    {
      "cell_type": "code",
      "execution_count": null,
      "metadata": {
        "id": "gbOHaH35cXhb"
      },
      "outputs": [],
      "source": [
        "def get_tabular(fileNameBatch):\n",
        "  \"\"\"Read tabular data\n",
        "\n",
        "    Args:\n",
        "        fileNameBatch: List of file names.\n",
        "\n",
        "    Returns:\n",
        "        Numpy array of clinical data features\n",
        "  \"\"\"\n",
        "\n",
        "  _res = []\n",
        "\n",
        "  # For each file\n",
        "  for i in fileNameBatch:\n",
        "    # Get file name\n",
        "    _fileName = str(i).split('/')\n",
        "\n",
        "    # Get patient name\n",
        "    _str = _fileName[len(_fileName) - 1].split(\"-\")[0]\n",
        "\n",
        "    # Find the patient on the clinical data\n",
        "    _row = _dataset.loc[_dataset[0] == _str]\n",
        "\n",
        "    # If not found print\n",
        "    if len(_row) == 0:\n",
        "      print(_str)\n",
        "\n",
        "    # Get patient clinical data\n",
        "    _out = _row.drop(0, axis=1).to_numpy().ravel()\n",
        "\n",
        "    # Append to result\n",
        "    _res.append(_out)\n",
        "\n",
        "  # Transforms the result in a numpy array\n",
        "  _res = np.array(_res)\n",
        "\n",
        "  return _res"
      ]
    },
    {
      "cell_type": "markdown",
      "source": [
        "## Model"
      ],
      "metadata": {
        "id": "tPNSSs4-94d7"
      }
    },
    {
      "cell_type": "markdown",
      "source": [
        "### Multiplication layer"
      ],
      "metadata": {
        "id": "sBRpNZw695-i"
      }
    },
    {
      "cell_type": "code",
      "execution_count": null,
      "metadata": {
        "id": "J0rmN1Ur3v9o"
      },
      "outputs": [],
      "source": [
        "def mult_dense(x, y):\n",
        "  \"\"\"Multiplication of feature map with a scalar value\n",
        "\n",
        "    Args:\n",
        "        x: Scalar value\n",
        "        y: Feature map matrix\n",
        "\n",
        "    Returns:\n",
        "        New feature map\n",
        "  \"\"\"\n",
        "\n",
        "  return tf.reshape(x, (-1, 1, 1, x.shape[1])) * y"
      ]
    },
    {
      "cell_type": "markdown",
      "source": [
        "### Convolution block"
      ],
      "metadata": {
        "id": "gVwz-fly-SFx"
      }
    },
    {
      "cell_type": "code",
      "execution_count": null,
      "metadata": {
        "id": "GdRXNqWwbroY"
      },
      "outputs": [],
      "source": [
        "def convBlock(input, kernels, kernel_size, padding, initializer, total_convs):\n",
        "  \"\"\"Convolution block layer with batch normalization, ReLU and pooling\n",
        "\n",
        "    Args:\n",
        "        input: Batch of images\n",
        "        kernels: Number of kernels for convolution layer\n",
        "        kernel_size: Size of kernels for convlution layer\n",
        "        padding: Padding size for convolution layer\n",
        "        initializer: Kernel initializer function\n",
        "        total_convs: Number of convolution operations\n",
        "\n",
        "    Returns:\n",
        "        Feature map\n",
        "  \"\"\"\n",
        "\n",
        "  x = input\n",
        "\n",
        "  for i in range(total_convs):\n",
        "    # Convolution operation\n",
        "    x = tf.keras.layers.Conv2D(kernels, kernel_size=kernel_size, padding=padding, kernel_initializer=initializer)(x)\n",
        "\n",
        "    # Batch normalization\n",
        "    x = tf.keras.layers.BatchNormalization()(x)\n",
        "\n",
        "    # ReLU\n",
        "    x = tf.keras.layers.ReLU()(x)\n",
        "\n",
        "  # Pooling = Another convolution with stride of 2 (reduce the input size)\n",
        "  x = tf.keras.layers.Conv2D(kernels, kernel_size=(2,2), padding=padding, strides = (2,2), kernel_initializer=initializer)(x)\n",
        "\n",
        "  return x"
      ]
    },
    {
      "cell_type": "markdown",
      "source": [
        "### Dense convolution block"
      ],
      "metadata": {
        "id": "EAsSsMakAY3o"
      }
    },
    {
      "cell_type": "code",
      "source": [
        "def denseConvBlock(input, dense, size, initializer):\n",
        "  \"\"\"Dense layer using batch normalization and ReLU, multiplying the neurons with the feature maps\n",
        "\n",
        "    Args:\n",
        "        input: Batch of feature maps\n",
        "        dense: Dense layer input\n",
        "        size: Number of neurons\n",
        "        initializer: Kernel initializer function\n",
        "\n",
        "    Returns:\n",
        "        Tuple of new feature map and dense output\n",
        "  \"\"\"\n",
        "\n",
        "  # Dense layer\n",
        "  x = tf.keras.layers.Dense(size, kernel_initializer=initializer)(dense)\n",
        "\n",
        "  # Batch normalization\n",
        "  x = tf.keras.layers.BatchNormalization()(x)\n",
        "\n",
        "  # Relu\n",
        "  x = tf.keras.layers.ReLU()(x)\n",
        "\n",
        "  # Multiply\n",
        "  return mult_dense(x,input), x"
      ],
      "metadata": {
        "id": "TOL1_af1AbR0"
      },
      "execution_count": null,
      "outputs": []
    },
    {
      "cell_type": "markdown",
      "source": [
        "### Model definition"
      ],
      "metadata": {
        "id": "Dk3Gw5b7_SH7"
      }
    },
    {
      "cell_type": "code",
      "execution_count": null,
      "metadata": {
        "id": "dpq5-DDs2-hr"
      },
      "outputs": [],
      "source": [
        "def BaseModel(shape = input_shape, shape2 = (dense_input,), normalize=tf.keras.layers.Normalization()):\n",
        "  \"\"\"Model creation\n",
        "\n",
        "    Args:\n",
        "        shape: input shape of images for convolution network\n",
        "        shape2: input shape of clinical data for dense network\n",
        "        normalize: normalize function of images\n",
        "\n",
        "    Returns:\n",
        "        Keras model (not compiled)\n",
        "  \"\"\"\n",
        "\n",
        "  # Defines the kernel initializer\n",
        "  initializer = tf.keras.initializers.GlorotUniform(seed=_seed)\n",
        "\n",
        "  # Image input\n",
        "  inputs = tf.keras.layers.Input(shape)\n",
        "\n",
        "  # Clinical data input\n",
        "  inputs2 = tf.keras.layers.Input(shape2)\n",
        "\n",
        "  # Initial number of filters\n",
        "  _initialFilters = 32\n",
        "\n",
        "  # Normalize images\n",
        "  x = normalize(inputs)\n",
        "\n",
        "  # Add padding to images\n",
        "  x = tf.keras.layers.ZeroPadding2D(padding=2)(x)\n",
        "\n",
        "  # Clinical data\n",
        "  d = inputs2\n",
        "\n",
        "  # First block -> 2 conv operations of 5 x 5 | 32 filters\n",
        "  x = convBlock(x, _initialFilters, 5, 'same', initializer, 2)\n",
        "\n",
        "  # Dense layer of 32 neurons multiplying feature maps\n",
        "  x, d = denseConvBlock(x, d, _initialFilters, initializer)\n",
        "\n",
        "  # Second block -> 2 conv operations of 5 x 5 | 64 filters\n",
        "  _filters = 64\n",
        "  x = convBlock(x, _filters, 5, 'same', initializer, 2)\n",
        "  x, d = denseConvBlock(x, d, _filters, initializer)\n",
        "\n",
        "  # Third block -> 3 conv operations of 3 x 3 | 128 filters\n",
        "  _filters = 128\n",
        "  x = convBlock(x, _filters, 3, 'same', initializer, 3)\n",
        "  x, d = denseConvBlock(x, d, _filters, initializer)\n",
        "\n",
        "  # Fourth block -> 3 conv operations of 3 x 3 | 256 filters\n",
        "  _filters = 256\n",
        "  x = convBlock(x, _filters, 3, 'same', initializer, 3)\n",
        "  x, d = denseConvBlock(x, d, _filters, initializer)\n",
        "\n",
        "  # Fifth block -> 4 conv operations of 3 x 3 | 256 filters\n",
        "  _filters = 256\n",
        "  x = convBlock(x, _filters, 3, 'same', initializer, 4)\n",
        "  x, d = denseConvBlock(x, d, _filters, initializer)\n",
        "\n",
        "  # Sixth block -> 5 conv operations of 2 x 2 | 512 filters\n",
        "  _filters = 512\n",
        "  x = convBlock(x, _filters, 2, 'same', initializer, 5)\n",
        "  x, d = denseConvBlock(x, d, _filters, initializer)\n",
        "\n",
        "  # Flatten feature maps\n",
        "  x = tf.keras.layers.Flatten()(x)\n",
        "\n",
        "  # Dropout of 20%\n",
        "  z = tf.keras.layers.Dropout(0.2)(x)\n",
        "\n",
        "  # Output dense layer of one neuron\n",
        "  z = tf.keras.layers.Dense(1, kernel_initializer=initializer)(z)\n",
        "\n",
        "  # Add sigmoid activation\n",
        "  z = tf.keras.layers.Activation('sigmoid')(z)\n",
        "\n",
        "  # Return keras model using both inputs\n",
        "  return tf.keras.models.Model(inputs=[inputs, inputs2], outputs=z)"
      ]
    },
    {
      "cell_type": "code",
      "execution_count": null,
      "metadata": {
        "colab": {
          "base_uri": "https://localhost:8080/"
        },
        "id": "86HnbN21iJW-",
        "outputId": "72287e55-2713-4e74-fc2b-861bf391fbb1"
      },
      "outputs": [
        {
          "output_type": "stream",
          "name": "stdout",
          "text": [
            "Model: \"model\"\n",
            "__________________________________________________________________________________________________\n",
            " Layer (type)                   Output Shape         Param #     Connected to                     \n",
            "==================================================================================================\n",
            " input_1 (InputLayer)           [(None, 64, 64, 3)]  0           []                               \n",
            "                                                                                                  \n",
            " normalization (Normalization)  (None, 64, 64, 3)    7           ['input_1[0][0]']                \n",
            "                                                                                                  \n",
            " zero_padding2d (ZeroPadding2D)  (None, 68, 68, 3)   0           ['normalization[0][0]']          \n",
            "                                                                                                  \n",
            " conv2d (Conv2D)                (None, 68, 68, 32)   2432        ['zero_padding2d[0][0]']         \n",
            "                                                                                                  \n",
            " batch_normalization (BatchNorm  (None, 68, 68, 32)  128         ['conv2d[0][0]']                 \n",
            " alization)                                                                                       \n",
            "                                                                                                  \n",
            " input_2 (InputLayer)           [(None, 3)]          0           []                               \n",
            "                                                                                                  \n",
            " re_lu (ReLU)                   (None, 68, 68, 32)   0           ['batch_normalization[0][0]']    \n",
            "                                                                                                  \n",
            " dense (Dense)                  (None, 32)           128         ['input_2[0][0]']                \n",
            "                                                                                                  \n",
            " conv2d_1 (Conv2D)              (None, 68, 68, 32)   25632       ['re_lu[0][0]']                  \n",
            "                                                                                                  \n",
            " batch_normalization_2 (BatchNo  (None, 32)          128         ['dense[0][0]']                  \n",
            " rmalization)                                                                                     \n",
            "                                                                                                  \n",
            " batch_normalization_1 (BatchNo  (None, 68, 68, 32)  128         ['conv2d_1[0][0]']               \n",
            " rmalization)                                                                                     \n",
            "                                                                                                  \n",
            " re_lu_2 (ReLU)                 (None, 32)           0           ['batch_normalization_2[0][0]']  \n",
            "                                                                                                  \n",
            " re_lu_1 (ReLU)                 (None, 68, 68, 32)   0           ['batch_normalization_1[0][0]']  \n",
            "                                                                                                  \n",
            " tf.reshape (TFOpLambda)        (None, 1, 1, 32)     0           ['re_lu_2[0][0]']                \n",
            "                                                                                                  \n",
            " conv2d_2 (Conv2D)              (None, 34, 34, 32)   4128        ['re_lu_1[0][0]']                \n",
            "                                                                                                  \n",
            " tf.math.multiply (TFOpLambda)  (None, 34, 34, 32)   0           ['tf.reshape[0][0]',             \n",
            "                                                                  'conv2d_2[0][0]']               \n",
            "                                                                                                  \n",
            " conv2d_3 (Conv2D)              (None, 34, 34, 64)   51264       ['tf.math.multiply[0][0]']       \n",
            "                                                                                                  \n",
            " batch_normalization_3 (BatchNo  (None, 34, 34, 64)  256         ['conv2d_3[0][0]']               \n",
            " rmalization)                                                                                     \n",
            "                                                                                                  \n",
            " re_lu_3 (ReLU)                 (None, 34, 34, 64)   0           ['batch_normalization_3[0][0]']  \n",
            "                                                                                                  \n",
            " dense_1 (Dense)                (None, 64)           2112        ['re_lu_2[0][0]']                \n",
            "                                                                                                  \n",
            " conv2d_4 (Conv2D)              (None, 34, 34, 64)   102464      ['re_lu_3[0][0]']                \n",
            "                                                                                                  \n",
            " batch_normalization_5 (BatchNo  (None, 64)          256         ['dense_1[0][0]']                \n",
            " rmalization)                                                                                     \n",
            "                                                                                                  \n",
            " batch_normalization_4 (BatchNo  (None, 34, 34, 64)  256         ['conv2d_4[0][0]']               \n",
            " rmalization)                                                                                     \n",
            "                                                                                                  \n",
            " re_lu_5 (ReLU)                 (None, 64)           0           ['batch_normalization_5[0][0]']  \n",
            "                                                                                                  \n",
            " re_lu_4 (ReLU)                 (None, 34, 34, 64)   0           ['batch_normalization_4[0][0]']  \n",
            "                                                                                                  \n",
            " tf.reshape_1 (TFOpLambda)      (None, 1, 1, 64)     0           ['re_lu_5[0][0]']                \n",
            "                                                                                                  \n",
            " conv2d_5 (Conv2D)              (None, 17, 17, 64)   16448       ['re_lu_4[0][0]']                \n",
            "                                                                                                  \n",
            " tf.math.multiply_1 (TFOpLambda  (None, 17, 17, 64)  0           ['tf.reshape_1[0][0]',           \n",
            " )                                                                'conv2d_5[0][0]']               \n",
            "                                                                                                  \n",
            " conv2d_6 (Conv2D)              (None, 17, 17, 128)  73856       ['tf.math.multiply_1[0][0]']     \n",
            "                                                                                                  \n",
            " batch_normalization_6 (BatchNo  (None, 17, 17, 128)  512        ['conv2d_6[0][0]']               \n",
            " rmalization)                                                                                     \n",
            "                                                                                                  \n",
            " re_lu_6 (ReLU)                 (None, 17, 17, 128)  0           ['batch_normalization_6[0][0]']  \n",
            "                                                                                                  \n",
            " conv2d_7 (Conv2D)              (None, 17, 17, 128)  147584      ['re_lu_6[0][0]']                \n",
            "                                                                                                  \n",
            " batch_normalization_7 (BatchNo  (None, 17, 17, 128)  512        ['conv2d_7[0][0]']               \n",
            " rmalization)                                                                                     \n",
            "                                                                                                  \n",
            " re_lu_7 (ReLU)                 (None, 17, 17, 128)  0           ['batch_normalization_7[0][0]']  \n",
            "                                                                                                  \n",
            " dense_2 (Dense)                (None, 128)          8320        ['re_lu_5[0][0]']                \n",
            "                                                                                                  \n",
            " conv2d_8 (Conv2D)              (None, 17, 17, 128)  147584      ['re_lu_7[0][0]']                \n",
            "                                                                                                  \n",
            " batch_normalization_9 (BatchNo  (None, 128)         512         ['dense_2[0][0]']                \n",
            " rmalization)                                                                                     \n",
            "                                                                                                  \n",
            " batch_normalization_8 (BatchNo  (None, 17, 17, 128)  512        ['conv2d_8[0][0]']               \n",
            " rmalization)                                                                                     \n",
            "                                                                                                  \n",
            " re_lu_9 (ReLU)                 (None, 128)          0           ['batch_normalization_9[0][0]']  \n",
            "                                                                                                  \n",
            " re_lu_8 (ReLU)                 (None, 17, 17, 128)  0           ['batch_normalization_8[0][0]']  \n",
            "                                                                                                  \n",
            " tf.reshape_2 (TFOpLambda)      (None, 1, 1, 128)    0           ['re_lu_9[0][0]']                \n",
            "                                                                                                  \n",
            " conv2d_9 (Conv2D)              (None, 9, 9, 128)    65664       ['re_lu_8[0][0]']                \n",
            "                                                                                                  \n",
            " tf.math.multiply_2 (TFOpLambda  (None, 9, 9, 128)   0           ['tf.reshape_2[0][0]',           \n",
            " )                                                                'conv2d_9[0][0]']               \n",
            "                                                                                                  \n",
            " conv2d_10 (Conv2D)             (None, 9, 9, 256)    295168      ['tf.math.multiply_2[0][0]']     \n",
            "                                                                                                  \n",
            " batch_normalization_10 (BatchN  (None, 9, 9, 256)   1024        ['conv2d_10[0][0]']              \n",
            " ormalization)                                                                                    \n",
            "                                                                                                  \n",
            " re_lu_10 (ReLU)                (None, 9, 9, 256)    0           ['batch_normalization_10[0][0]'] \n",
            "                                                                                                  \n",
            " conv2d_11 (Conv2D)             (None, 9, 9, 256)    590080      ['re_lu_10[0][0]']               \n",
            "                                                                                                  \n",
            " batch_normalization_11 (BatchN  (None, 9, 9, 256)   1024        ['conv2d_11[0][0]']              \n",
            " ormalization)                                                                                    \n",
            "                                                                                                  \n",
            " re_lu_11 (ReLU)                (None, 9, 9, 256)    0           ['batch_normalization_11[0][0]'] \n",
            "                                                                                                  \n",
            " dense_3 (Dense)                (None, 256)          33024       ['re_lu_9[0][0]']                \n",
            "                                                                                                  \n",
            " conv2d_12 (Conv2D)             (None, 9, 9, 256)    590080      ['re_lu_11[0][0]']               \n",
            "                                                                                                  \n",
            " batch_normalization_13 (BatchN  (None, 256)         1024        ['dense_3[0][0]']                \n",
            " ormalization)                                                                                    \n",
            "                                                                                                  \n",
            " batch_normalization_12 (BatchN  (None, 9, 9, 256)   1024        ['conv2d_12[0][0]']              \n",
            " ormalization)                                                                                    \n",
            "                                                                                                  \n",
            " re_lu_13 (ReLU)                (None, 256)          0           ['batch_normalization_13[0][0]'] \n",
            "                                                                                                  \n",
            " re_lu_12 (ReLU)                (None, 9, 9, 256)    0           ['batch_normalization_12[0][0]'] \n",
            "                                                                                                  \n",
            " tf.reshape_3 (TFOpLambda)      (None, 1, 1, 256)    0           ['re_lu_13[0][0]']               \n",
            "                                                                                                  \n",
            " conv2d_13 (Conv2D)             (None, 5, 5, 256)    262400      ['re_lu_12[0][0]']               \n",
            "                                                                                                  \n",
            " tf.math.multiply_3 (TFOpLambda  (None, 5, 5, 256)   0           ['tf.reshape_3[0][0]',           \n",
            " )                                                                'conv2d_13[0][0]']              \n",
            "                                                                                                  \n",
            " conv2d_14 (Conv2D)             (None, 5, 5, 256)    590080      ['tf.math.multiply_3[0][0]']     \n",
            "                                                                                                  \n",
            " batch_normalization_14 (BatchN  (None, 5, 5, 256)   1024        ['conv2d_14[0][0]']              \n",
            " ormalization)                                                                                    \n",
            "                                                                                                  \n",
            " re_lu_14 (ReLU)                (None, 5, 5, 256)    0           ['batch_normalization_14[0][0]'] \n",
            "                                                                                                  \n",
            " conv2d_15 (Conv2D)             (None, 5, 5, 256)    590080      ['re_lu_14[0][0]']               \n",
            "                                                                                                  \n",
            " batch_normalization_15 (BatchN  (None, 5, 5, 256)   1024        ['conv2d_15[0][0]']              \n",
            " ormalization)                                                                                    \n",
            "                                                                                                  \n",
            " re_lu_15 (ReLU)                (None, 5, 5, 256)    0           ['batch_normalization_15[0][0]'] \n",
            "                                                                                                  \n",
            " conv2d_16 (Conv2D)             (None, 5, 5, 256)    590080      ['re_lu_15[0][0]']               \n",
            "                                                                                                  \n",
            " batch_normalization_16 (BatchN  (None, 5, 5, 256)   1024        ['conv2d_16[0][0]']              \n",
            " ormalization)                                                                                    \n",
            "                                                                                                  \n",
            " re_lu_16 (ReLU)                (None, 5, 5, 256)    0           ['batch_normalization_16[0][0]'] \n",
            "                                                                                                  \n",
            " dense_4 (Dense)                (None, 256)          65792       ['re_lu_13[0][0]']               \n",
            "                                                                                                  \n",
            " conv2d_17 (Conv2D)             (None, 5, 5, 256)    590080      ['re_lu_16[0][0]']               \n",
            "                                                                                                  \n",
            " batch_normalization_18 (BatchN  (None, 256)         1024        ['dense_4[0][0]']                \n",
            " ormalization)                                                                                    \n",
            "                                                                                                  \n",
            " batch_normalization_17 (BatchN  (None, 5, 5, 256)   1024        ['conv2d_17[0][0]']              \n",
            " ormalization)                                                                                    \n",
            "                                                                                                  \n",
            " re_lu_18 (ReLU)                (None, 256)          0           ['batch_normalization_18[0][0]'] \n",
            "                                                                                                  \n",
            " re_lu_17 (ReLU)                (None, 5, 5, 256)    0           ['batch_normalization_17[0][0]'] \n",
            "                                                                                                  \n",
            " tf.reshape_4 (TFOpLambda)      (None, 1, 1, 256)    0           ['re_lu_18[0][0]']               \n",
            "                                                                                                  \n",
            " conv2d_18 (Conv2D)             (None, 3, 3, 256)    262400      ['re_lu_17[0][0]']               \n",
            "                                                                                                  \n",
            " tf.math.multiply_4 (TFOpLambda  (None, 3, 3, 256)   0           ['tf.reshape_4[0][0]',           \n",
            " )                                                                'conv2d_18[0][0]']              \n",
            "                                                                                                  \n",
            " conv2d_19 (Conv2D)             (None, 3, 3, 512)    524800      ['tf.math.multiply_4[0][0]']     \n",
            "                                                                                                  \n",
            " batch_normalization_19 (BatchN  (None, 3, 3, 512)   2048        ['conv2d_19[0][0]']              \n",
            " ormalization)                                                                                    \n",
            "                                                                                                  \n",
            " re_lu_19 (ReLU)                (None, 3, 3, 512)    0           ['batch_normalization_19[0][0]'] \n",
            "                                                                                                  \n",
            " conv2d_20 (Conv2D)             (None, 3, 3, 512)    1049088     ['re_lu_19[0][0]']               \n",
            "                                                                                                  \n",
            " batch_normalization_20 (BatchN  (None, 3, 3, 512)   2048        ['conv2d_20[0][0]']              \n",
            " ormalization)                                                                                    \n",
            "                                                                                                  \n",
            " re_lu_20 (ReLU)                (None, 3, 3, 512)    0           ['batch_normalization_20[0][0]'] \n",
            "                                                                                                  \n",
            " conv2d_21 (Conv2D)             (None, 3, 3, 512)    1049088     ['re_lu_20[0][0]']               \n",
            "                                                                                                  \n",
            " batch_normalization_21 (BatchN  (None, 3, 3, 512)   2048        ['conv2d_21[0][0]']              \n",
            " ormalization)                                                                                    \n",
            "                                                                                                  \n",
            " re_lu_21 (ReLU)                (None, 3, 3, 512)    0           ['batch_normalization_21[0][0]'] \n",
            "                                                                                                  \n",
            " conv2d_22 (Conv2D)             (None, 3, 3, 512)    1049088     ['re_lu_21[0][0]']               \n",
            "                                                                                                  \n",
            " batch_normalization_22 (BatchN  (None, 3, 3, 512)   2048        ['conv2d_22[0][0]']              \n",
            " ormalization)                                                                                    \n",
            "                                                                                                  \n",
            " re_lu_22 (ReLU)                (None, 3, 3, 512)    0           ['batch_normalization_22[0][0]'] \n",
            "                                                                                                  \n",
            " dense_5 (Dense)                (None, 512)          131584      ['re_lu_18[0][0]']               \n",
            "                                                                                                  \n",
            " conv2d_23 (Conv2D)             (None, 3, 3, 512)    1049088     ['re_lu_22[0][0]']               \n",
            "                                                                                                  \n",
            " batch_normalization_24 (BatchN  (None, 512)         2048        ['dense_5[0][0]']                \n",
            " ormalization)                                                                                    \n",
            "                                                                                                  \n",
            " batch_normalization_23 (BatchN  (None, 3, 3, 512)   2048        ['conv2d_23[0][0]']              \n",
            " ormalization)                                                                                    \n",
            "                                                                                                  \n",
            " re_lu_24 (ReLU)                (None, 512)          0           ['batch_normalization_24[0][0]'] \n",
            "                                                                                                  \n",
            " re_lu_23 (ReLU)                (None, 3, 3, 512)    0           ['batch_normalization_23[0][0]'] \n",
            "                                                                                                  \n",
            " tf.reshape_5 (TFOpLambda)      (None, 1, 1, 512)    0           ['re_lu_24[0][0]']               \n",
            "                                                                                                  \n",
            " conv2d_24 (Conv2D)             (None, 2, 2, 512)    1049088     ['re_lu_23[0][0]']               \n",
            "                                                                                                  \n",
            " tf.math.multiply_5 (TFOpLambda  (None, 2, 2, 512)   0           ['tf.reshape_5[0][0]',           \n",
            " )                                                                'conv2d_24[0][0]']              \n",
            "                                                                                                  \n",
            " flatten (Flatten)              (None, 2048)         0           ['tf.math.multiply_5[0][0]']     \n",
            "                                                                                                  \n",
            " dropout (Dropout)              (None, 2048)         0           ['flatten[0][0]']                \n",
            "                                                                                                  \n",
            " dense_6 (Dense)                (None, 1)            2049        ['dropout[0][0]']                \n",
            "                                                                                                  \n",
            " activation (Activation)        (None, 1)            0           ['dense_6[0][0]']                \n",
            "                                                                                                  \n",
            "==================================================================================================\n",
            "Total params: 11,035,464\n",
            "Trainable params: 11,023,105\n",
            "Non-trainable params: 12,359\n",
            "__________________________________________________________________________________________________\n"
          ]
        }
      ],
      "source": [
        "BaseModel().summary()"
      ]
    },
    {
      "cell_type": "markdown",
      "source": [
        "### Augmentation sequential model"
      ],
      "metadata": {
        "id": "ByPmO2mDG8pZ"
      }
    },
    {
      "cell_type": "code",
      "execution_count": null,
      "metadata": {
        "id": "dpiHkucqMkUr"
      },
      "outputs": [],
      "source": [
        "trainAug = tf.keras.Sequential([\n",
        "  # Horizontal and vertical flip\n",
        "  preprocessing.RandomFlip(\"horizontal_and_vertical\", seed=_seed),\n",
        "  # Zoom\n",
        "  preprocessing.RandomZoom(\n",
        "    height_factor=0.3,\n",
        "    width_factor=0.3,\n",
        "    seed=_seed,\n",
        "    fill_mode='constant'\n",
        "  ),\n",
        "  # Rotation\n",
        "  preprocessing.RandomRotation(0.3, fill_mode='constant', seed=_seed),\n",
        "  # Translation\n",
        "  preprocessing.RandomTranslation(\n",
        "    height_factor=0.3,\n",
        "    width_factor=0.3,\n",
        "    seed=_seed,\n",
        "    fill_mode='constant'\n",
        "  )\n",
        "])"
      ]
    },
    {
      "cell_type": "markdown",
      "source": [
        "## Training"
      ],
      "metadata": {
        "id": "Hzo-jbfUHEgy"
      }
    },
    {
      "cell_type": "markdown",
      "source": [
        "Global metrics and variables"
      ],
      "metadata": {
        "id": "xBAoUSI3HYNw"
      }
    },
    {
      "cell_type": "code",
      "execution_count": null,
      "metadata": {
        "id": "5QYECXa-hEr0"
      },
      "outputs": [],
      "source": [
        "global_hist_loss = []\n",
        "global_hist_val_loss = []\n",
        "global_hist_acc = []\n",
        "global_hist_val_acc = []\n",
        "\n",
        "global_acc = []\n",
        "global_bacc = []\n",
        "global_f1 = []\n",
        "global_recall = []\n",
        "global_precision = []\n",
        "global_auc = []\n",
        "global_sensitivity = []\n",
        "global_specificity = []\n",
        "\n",
        "global_tn = []\n",
        "global_fp = []\n",
        "global_fn = []\n",
        "global_tp = []\n",
        "\n",
        "global_specificity = []\n",
        "global_sensitivity = []\n",
        "\n",
        "global_acc_p = []\n",
        "global_bacc_p = []\n",
        "global_f1_p = []\n",
        "global_recall_p = []\n",
        "global_precision_p = []\n",
        "global_auc_p = []\n",
        "global_sensitivity_p = []\n",
        "global_specificity_p = []\n",
        "\n",
        "global_tn_p = []\n",
        "global_fp_p = []\n",
        "global_fn_p = []\n",
        "global_tp_p = []\n",
        "\n",
        "global_specificity_p = []\n",
        "global_sensitivity_p = []\n",
        "\n",
        "roc_list = []\n",
        "roc_list_p = []\n",
        "_stop = False"
      ]
    },
    {
      "cell_type": "markdown",
      "source": [
        "### Cross validation training"
      ],
      "metadata": {
        "id": "UtzHD5nxH1L6"
      }
    },
    {
      "cell_type": "code",
      "execution_count": null,
      "metadata": {
        "id": "FYtWl_gyNz8W"
      },
      "outputs": [],
      "source": [
        "for i in range(3):\n",
        "  # Path to get data\n",
        "  rootpath = 'data'\n",
        "  basedir = f'{rootpath}/fold{i+1}'\n",
        "  traindir = f'{basedir}/trainDir'\n",
        "  traindir_path = pathlib.Path(traindir)\n",
        "  valdir = f'{basedir}/validationDir'\n",
        "  valdir_path = pathlib.Path(valdir)\n",
        "\n",
        "  # Train and validation files\n",
        "  train_files = tf.data.Dataset.list_files(str(traindir_path/'*/*'), seed=_seed)\n",
        "  val_files = tf.data.Dataset.list_files(str(valdir_path/'*/*'), seed=_seed)\n",
        "\n",
        "  # Labeled data\n",
        "  labeled_ds = train_files.map(read_files)\n",
        "  labeled_ds_val = val_files.map(read_files)\n",
        "\n",
        "  train_ds_size = tf.data.experimental.cardinality(labeled_ds).numpy()\n",
        "  print(f'\\n *************************** START FOLD {i+1} / {train_ds_size * repeat} IMAGES  *************************** \\n')\n",
        "\n",
        "  # Nadam optimizer\n",
        "  optimizer = tf.keras.optimizers.Nadam(learning_rate=lr)\n",
        "\n",
        "  # Binary cross entropy loss function\n",
        "  bce = tf.keras.losses.BinaryCrossentropy()\n",
        "\n",
        "  # Train step\n",
        "  @tf.function\n",
        "  def train_step(data, labels):\n",
        "    with tf.GradientTape() as tape:\n",
        "        # Generate model predictions\n",
        "        prediction = model(data, training=True)\n",
        "\n",
        "        # Calculate error\n",
        "        err = bce(labels, prediction)\n",
        "\n",
        "    # Generate gradients\n",
        "    gradient = tape.gradient(err, model.trainable_variables)\n",
        "\n",
        "    # Apply gradients to the optimizer\n",
        "    optimizer.apply_gradients(zip(gradient, model.trainable_variables))\n",
        "\n",
        "    # Return mean error and predicted result\n",
        "    return tf.reduce_mean(err), prediction\n",
        "\n",
        "  # Test step\n",
        "  @tf.function\n",
        "  def test_step(data, labels):\n",
        "    # Generate model predictions\n",
        "    prediction = model(data, training=False)\n",
        "\n",
        "    # Calculate error\n",
        "    err = bce(labels, prediction)\n",
        "\n",
        "    # Return mean error and predicted result\n",
        "    return tf.reduce_mean(err), prediction\n",
        "\n",
        "  # Create normalization layer\n",
        "  _normLayer = tf.keras.layers.Normalization(axis=None)\n",
        "\n",
        "  # Fit data to the normalization layer\n",
        "  _normLayer.adapt(labeled_ds.map(lambda x,y,z: x))\n",
        "\n",
        "  # Create the model\n",
        "  model = BaseModel(normalize=_normLayer)\n",
        "\n",
        "  # Compile the model (So we can save it)\n",
        "  model.compile(loss=tf.keras.losses.BinaryCrossentropy(), optimizer = tf.keras.optimizers.Nadam(learning_rate=lr))\n",
        "\n",
        "  # Metrics\n",
        "  hist_loss = []\n",
        "  hist_val_loss = []\n",
        "  hist_acc = []\n",
        "  hist_val_acc = []\n",
        "\n",
        "  # Training stop control variables\n",
        "  wait = 0\n",
        "  best = 0\n",
        "\n",
        "  start_time = time.time()\n",
        "\n",
        "  print(f'\\n *************************** START TRAINING  *************************** \\n')\n",
        "\n",
        "  # For each epoch\n",
        "  for e in range(epochs):\n",
        "    _error = []\n",
        "    _valError = []\n",
        "\n",
        "    print(f'{\"=\" * 10}')\n",
        "\n",
        "    print(f'Start epoch {e+1}/{epochs} - FOLD {i+1}')\n",
        "\n",
        "    print('Learning rate: {0:.6f}'.format(optimizer._decayed_lr(tf.float32).numpy()))\n",
        "\n",
        "    # Initialize training and validation confusion matrix\n",
        "    cm = np.zeros((2,2))\n",
        "    cm_val = np.zeros((2,2))\n",
        "\n",
        "    # Repeat the data, shuffle and generate batches\n",
        "    for p, z, y in labeled_ds.repeat(count=repeat).shuffle(buffer_size=train_ds_size,reshuffle_each_iteration=True, seed=_seed).batch(batch_size):\n",
        "      # Transform images using data augmentation\n",
        "      _aug = trainAug(p, training=True)\n",
        "\n",
        "      # Do train step using augmented images and clinical data\n",
        "      #   and generate error/predictions\n",
        "      err, pred = train_step((_aug, get_tabular(z)),y)\n",
        "\n",
        "      # Append to error output\n",
        "      _error.append(err.numpy())\n",
        "\n",
        "      # Generate batch confusion matrix\n",
        "      cm = cm + metrics.confusion_matrix(y, np.asarray(pred) >= 0.5)\n",
        "\n",
        "    # Print confusion matrix\n",
        "    print(f'Generating metrics for epoch {e+1}/{epochs} - FOLD {i+1}')\n",
        "    print(cm)\n",
        "\n",
        "    # Get validation data batches\n",
        "    for p, z, y in labeled_ds_val.batch(batch_size):\n",
        "      # Do test step using validation data and clinical data\n",
        "      err, pred = test_step((p,get_tabular(z)),y)\n",
        "\n",
        "      # Append to output error\n",
        "      _valError.append(err.numpy())\n",
        "\n",
        "      # Generate validation confusion matrix for batch\n",
        "      cm_val = cm_val + metrics.confusion_matrix(y, np.asarray(pred) >= 0.5)\n",
        "\n",
        "    # Print validation confusion matrix\n",
        "    print(cm_val)\n",
        "\n",
        "    # Training and validation metrics history\n",
        "    train_loss = np.mean(_error)\n",
        "    val_loss = np.mean(_valError)\n",
        "\n",
        "    hist_loss.append(train_loss)\n",
        "    hist_val_loss.append(val_loss)\n",
        "\n",
        "    # Calculate specificity and sensitivity based on confusion matrix\n",
        "    _spec = (cm[0,0]+cm[0,1])\n",
        "    _sens = (cm[1,1]+cm[1,0])\n",
        "\n",
        "    specificity = cm[0,0] / _spec if _spec > 0 else 0\n",
        "    sensitivity = cm[1,1] / _sens if _sens > 0 else 0\n",
        "\n",
        "    _spec = (cm_val[0,0]+cm_val[0,1])\n",
        "    _sens = (cm_val[1,1]+cm_val[1,0])\n",
        "\n",
        "    specificity = cm_val[0,0] / _spec if _spec > 0 else 0\n",
        "    sensitivity = cm_val[1,1] / _sens if _sens > 0 else 0\n",
        "\n",
        "    # Calculate balanced accuracy using specificity and sensitivity\n",
        "    train_acc = (specificity + sensitivity) / 2\n",
        "    hist_acc.append(train_acc)\n",
        "\n",
        "    val_acc = (specificity + sensitivity) / 2\n",
        "    hist_val_acc.append(val_acc)\n",
        "\n",
        "    # Print epoch metrics\n",
        "    print(f'Epoch Error: {train_loss:0.3f} / Epoch Validation Error: {val_loss:0.3f} | Epoch Acc: {train_acc:0.3f} / Epoch Validation Acc: {val_acc:0.3f}')\n",
        "\n",
        "    # Training stop control\n",
        "    # If epoch greater than 5\n",
        "    if e >= 5:\n",
        "      # Add to wait variable\n",
        "      wait += 1\n",
        "\n",
        "      # If current validation accuracy greater than best update save model\n",
        "      if val_acc >= best:\n",
        "        # Set new best accuracy\n",
        "        best = val_acc\n",
        "\n",
        "        # Reset wait variable\n",
        "        wait = 0\n",
        "\n",
        "        print('Model enhanced')\n",
        "\n",
        "        # Save model\n",
        "        model.save(f\"./model_{i+1}.h5\")\n",
        "      else:\n",
        "        print('Model did not enhanced')\n",
        "\n",
        "      # If wait variable greater than patience stop training\n",
        "      if wait >= patience:\n",
        "       print(f'Stop training because model did not enhanced within {patience} epochs')\n",
        "       wait = 0\n",
        "       break\n",
        "    else:\n",
        "      # If epochs before 5 save model directly\n",
        "      model.save(f\"./model_{i+1}.h5\")\n",
        "\n",
        "    print('\\n')\n",
        "\n",
        "  train_time = f'Training time (seconds): {time.time()-start_time}'\n",
        "\n",
        "  print(train_time)\n",
        "\n",
        "  print(f'\\n *************************** TRAINING METRICS FOLD {i+1}  *************************** \\n')\n",
        "\n",
        "  # Accuracy history plot\n",
        "  plt.plot(hist_acc)\n",
        "  plt.plot(hist_val_acc)\n",
        "  plt.title('model accuracy')\n",
        "  plt.ylabel('accuracy')\n",
        "  plt.xlabel('epoch')\n",
        "  plt.legend(['train', 'test'], loc='upper left')\n",
        "  plt.show()\n",
        "\n",
        "  # Loss history plot\n",
        "  plt.plot(hist_loss)\n",
        "  plt.plot(hist_val_loss)\n",
        "  plt.title('model loss')\n",
        "  plt.ylabel('loss')\n",
        "  plt.xlabel('epoch')\n",
        "  plt.legend(['train', 'test'], loc='upper left')\n",
        "  plt.show()\n",
        "\n",
        "  # Global history metrics\n",
        "  global_hist_acc.append(hist_acc)\n",
        "  global_hist_val_acc.append(hist_val_acc)\n",
        "  global_hist_loss.append(hist_loss)\n",
        "  global_hist_val_loss.append(hist_val_loss)\n",
        "\n",
        "  # Load saved model\n",
        "  model = tf.keras.models.load_model(f'model_{i+1}.h5')\n",
        "\n",
        "  # Generate training outputs\n",
        "  prediction = []\n",
        "  _y = []\n",
        "\n",
        "  for p, z, y in labeled_ds.batch(batch_size):\n",
        "    prediction.extend(model((p, get_tabular(z))).numpy().ravel())#(p, get_tabular(z))\n",
        "    _y.extend(y.numpy())\n",
        "\n",
        "  y_true = _y\n",
        "  probas = prediction\n",
        "  out = np.asarray(prediction) >= 0.5\n",
        "\n",
        "  # Calculate metrics\n",
        "  print(f'\\n *************************** AUC FOLD {i+1}  *************************** \\n')\n",
        "\n",
        "  # Calculate roc curve\n",
        "  fpr_keras, tpr_keras, thresholds_keras = metrics.roc_curve(y_true, probas)\n",
        "\n",
        "  # Calculate AUC\n",
        "  __auc = metrics.roc_auc_score(y_true, probas)\n",
        "\n",
        "  # Plot roc curve with AUC\n",
        "  plt.figure(1)\n",
        "  plt.plot([0, 1], [0, 1], 'k--')\n",
        "  plt.plot(fpr_keras, tpr_keras, label='AUC (area = {:.3f})'.format(__auc))\n",
        "  plt.xlabel('False positive')\n",
        "  plt.ylabel('True positive')\n",
        "  plt.title('Curva ROC')\n",
        "  plt.legend(loc='best')\n",
        "  plt.show()\n",
        "\n",
        "  # Print confusion matrix\n",
        "  print(f'\\n *************************** CONFUSION MATRIX FOLD {i+1}  *************************** \\n')\n",
        "  print(metrics.confusion_matrix(y_true, out))\n",
        "  print(metrics.accuracy_score(y_true, out))\n",
        "  print(metrics.balanced_accuracy_score(y_true, out))\n",
        "  print(metrics.f1_score(y_true, out))\n",
        "  print(metrics.precision_score(y_true, out))\n",
        "  print(metrics.recall_score(y_true, out))\n",
        "  print(metrics.jaccard_score(y_true, out))\n",
        "\n",
        "  # Generate metrics for validation\n",
        "  prediction = []\n",
        "  _y = []\n",
        "  files = []\n",
        "\n",
        "  y_true_patients = {}\n",
        "  y_pred_patients = {}\n",
        "  y_probas_patients = {}\n",
        "\n",
        "  for p, z, y in labeled_ds_val.batch(batch_size):\n",
        "    prediction.extend(model((p,get_tabular(z))).numpy().ravel())#(p,get_tabular(z))\n",
        "    _y.extend(y.numpy())\n",
        "    files.extend(z)\n",
        "\n",
        "  # Using predictions, generate metrics for patients\n",
        "  for (y, _file, _pred, _prob) in zip(_y, files, (np.asarray(prediction) >= 0.5).astype(\"float\"), prediction):\n",
        "    _split = str(_file).split(\"/\")\n",
        "    _str = _split[len(_split) - 1].split(\"-\")[0]\n",
        "\n",
        "    if y_true_patients.get(_str) is None:\n",
        "      y_true_patients[_str] = y\n",
        "\n",
        "    if y_pred_patients.get(_str) is None:\n",
        "      y_pred_patients[_str] = [_pred]\n",
        "    else:\n",
        "      y_pred_patients[_str].append(_pred)\n",
        "\n",
        "    if y_probas_patients.get(_str) is None:\n",
        "      y_probas_patients[_str] = [_prob]\n",
        "    else:\n",
        "      y_probas_patients[_str].append(_prob)\n",
        "\n",
        "  for p in y_probas_patients:\n",
        "    # Patient probability is the median\n",
        "    y_probas_patients[p] = np.median(y_probas_patients[p])\n",
        "\n",
        "    # Patient response is the mode\n",
        "    y_pred_patients[p] = stats.mode((np.array(y_pred_patients[p]) >= 0.5).astype(\"float\"))[0][0]\n",
        "\n",
        "  y_true = _y\n",
        "  probas = prediction\n",
        "  out = np.asarray(prediction) >= 0.5\n",
        "\n",
        "  y_true_p = np.array(list(y_true_patients.values()))\n",
        "  out_p = np.array(list(y_pred_patients.values()))\n",
        "  probas_p = np.array(list(y_probas_patients.values()))\n",
        "\n",
        "  # Validation metrics\n",
        "  print(f'\\n *************************** AUC VALIDATION FOLD {i+1}  *************************** \\n')\n",
        "\n",
        "  # Validation roc curve\n",
        "  fpr_keras, tpr_keras, thresholds_keras = metrics.roc_curve(y_true, probas)\n",
        "\n",
        "  # Validation AUC\n",
        "  __auc = metrics.roc_auc_score(y_true, probas)\n",
        "\n",
        "  # Plot validation roc curve with AUC\n",
        "  plt.figure(1)\n",
        "  plt.plot([0, 1], [0, 1], 'k--')\n",
        "  plt.plot(fpr_keras, tpr_keras, label='AUC (area = {:.3f})'.format(__auc))\n",
        "  plt.xlabel('False positive')\n",
        "  plt.ylabel('True positive')\n",
        "  plt.title('Curva ROC Images')\n",
        "  plt.legend(loc='best')\n",
        "  plt.show()\n",
        "\n",
        "  # Generate validation metrics by patient\n",
        "\n",
        "  print(f'\\n *************************** AUC VALIDATION PATIENTS FOLD {i+1}  *************************** \\n')\n",
        "  # Roc curve\n",
        "  fpr_keras_p, tpr_keras_p, thresholds_keras_p = metrics.roc_curve(y_true_p, probas_p)\n",
        "\n",
        "  # Auc\n",
        "  __auc_p = metrics.roc_auc_score(y_true_p, probas_p)\n",
        "\n",
        "  # Plot roc curve with auc\n",
        "  plt.figure(1)\n",
        "  plt.plot([0, 1], [0, 1], 'k--')\n",
        "  plt.plot(fpr_keras_p, tpr_keras_p, label='AUC (area = {:.3f})'.format(__auc_p))\n",
        "  plt.xlabel('False positive')\n",
        "  plt.ylabel('True positive')\n",
        "  plt.title('Curva ROC Patients')\n",
        "  plt.legend(loc='best')\n",
        "  plt.show()\n",
        "\n",
        "  # Confusion matrix for validation images\n",
        "  print(f'\\n *************************** CONFUSION MATRIX VALIDATION FOLD {i+1}  *************************** \\n')\n",
        "  print(metrics.confusion_matrix(y_true, out))\n",
        "  tn, fp, fn, tp = metrics.confusion_matrix(y_true, out).ravel()\n",
        "\n",
        "  global_tn.append(tn)\n",
        "  global_fp.append(fp)\n",
        "  global_fn.append(fn)\n",
        "  global_tp.append(tp)\n",
        "\n",
        "  try:\n",
        "    global_specificity.append(tn / (tn+fp))\n",
        "    global_sensitivity.append(tp / (tp+fn))\n",
        "  except Exception as e:\n",
        "    global_specificity.append(0)\n",
        "    global_sensitivity.append(0)\n",
        "\n",
        "  print(metrics.accuracy_score(y_true, out))\n",
        "  print(metrics.balanced_accuracy_score(y_true, out))\n",
        "  print(metrics.f1_score(y_true, out))\n",
        "  print(metrics.precision_score(y_true, out))\n",
        "  print(metrics.recall_score(y_true, out))\n",
        "  print(metrics.jaccard_score(y_true, out))\n",
        "\n",
        "  __bacc = metrics.balanced_accuracy_score(y_true, out)\n",
        "  global_acc.append(metrics.accuracy_score(y_true, out))\n",
        "  global_bacc.append(__bacc)\n",
        "  global_f1.append(metrics.f1_score(y_true, out))\n",
        "  global_precision.append(metrics.precision_score(y_true, out))\n",
        "  global_recall.append(metrics.recall_score(y_true, out))\n",
        "  global_auc.append(__auc)\n",
        "\n",
        "  roc_list.append((fpr_keras, tpr_keras, __auc))\n",
        "\n",
        "  # Confusion matrix for validation patients\n",
        "  print(f'\\n *************************** CONFUSION MATRIX VALIDATION PATIENTS FOLD {i+1}  *************************** \\n')\n",
        "\n",
        "  print(metrics.confusion_matrix(y_true_p, out_p))\n",
        "  tn_p, fp_p, fn_p, tp_p = metrics.confusion_matrix(y_true_p, out_p).ravel()\n",
        "\n",
        "  global_tn_p.append(tn_p)\n",
        "  global_fp_p.append(fp_p)\n",
        "  global_fn_p.append(fn_p)\n",
        "  global_tp_p.append(tp_p)\n",
        "\n",
        "  try:\n",
        "    global_specificity_p.append(tn_p / (tn_p+fp_p))\n",
        "    global_sensitivity_p.append(tp_p / (tp_p+fn_p))\n",
        "  except Exception as e:\n",
        "    global_specificity_p.append(0)\n",
        "    global_sensitivity_p.append(0)\n",
        "\n",
        "  print(metrics.accuracy_score(y_true_p, out_p))\n",
        "  print(metrics.balanced_accuracy_score(y_true_p, out_p))\n",
        "  print(metrics.f1_score(y_true_p, out_p))\n",
        "  print(metrics.precision_score(y_true_p, out_p))\n",
        "  print(metrics.recall_score(y_true_p, out_p))\n",
        "  print(metrics.jaccard_score(y_true_p, out_p))\n",
        "\n",
        "  global_acc_p.append(metrics.accuracy_score(y_true_p, out_p))\n",
        "  global_bacc_p.append(metrics.balanced_accuracy_score(y_true_p, out_p))\n",
        "  global_f1_p.append(metrics.f1_score(y_true_p, out_p))\n",
        "  global_precision_p.append(metrics.precision_score(y_true_p, out_p))\n",
        "  global_recall_p.append(metrics.recall_score(y_true_p, out_p))\n",
        "  global_auc_p.append(__auc_p)\n",
        "\n",
        "  roc_list_p.append((fpr_keras_p, tpr_keras_p, __auc_p))\n"
      ]
    },
    {
      "cell_type": "markdown",
      "source": [
        "### Plot training history"
      ],
      "metadata": {
        "id": "FZkKxUlYMAmM"
      }
    },
    {
      "cell_type": "code",
      "execution_count": null,
      "metadata": {
        "id": "k2SYZEbgiU2k",
        "colab": {
          "base_uri": "https://localhost:8080/",
          "height": 295
        },
        "outputId": "c0bb9755-879a-45e1-cf61-f23bc3d9b8ac"
      },
      "outputs": [
        {
          "output_type": "display_data",
          "data": {
            "text/plain": [
              "<Figure size 432x288 with 1 Axes>"
            ],
            "image/png": "[encoded data removed]"
          },
          "metadata": {
            "needs_background": "light"
          }
        }
      ],
      "source": [
        "for i in range(len(global_hist_acc)):\n",
        "  plt.plot(global_hist_acc[i])\n",
        "  plt.plot(global_hist_val_acc[i])\n",
        "\n",
        "plt.title('model accuracy')\n",
        "plt.ylabel('accuracy')\n",
        "plt.xlabel('epoch')\n",
        "plt.legend(['train0', 'test0', 'train1', 'test1', 'train2', 'test2'], loc='upper left')\n",
        "plt.show()"
      ]
    },
    {
      "cell_type": "code",
      "execution_count": null,
      "metadata": {
        "id": "hFsiUUskinmG",
        "colab": {
          "base_uri": "https://localhost:8080/",
          "height": 295
        },
        "outputId": "6ddaf180-4ea0-44fb-f18f-0b32e4873b12"
      },
      "outputs": [
        {
          "output_type": "display_data",
          "data": {
            "text/plain": [
              "<Figure size 432x288 with 1 Axes>"
            ],
            "image/png": "[encoded data removed]"
          },
          "metadata": {
            "needs_background": "light"
          }
        }
      ],
      "source": [
        "for i in range(len(global_hist_loss)):\n",
        "  plt.plot(global_hist_loss[i])\n",
        "  plt.plot(global_hist_val_loss[i])\n",
        "\n",
        "plt.title('model loss')\n",
        "plt.ylabel('loss')\n",
        "plt.xlabel('epoch')\n",
        "plt.legend(['train0', 'test0', 'train1', 'test1', 'train2', 'test2'], loc='upper left')\n",
        "plt.show()"
      ]
    },
    {
      "cell_type": "markdown",
      "source": [
        "### Validation metrics by images"
      ],
      "metadata": {
        "id": "kajw3wYCMDVK"
      }
    },
    {
      "cell_type": "code",
      "execution_count": null,
      "metadata": {
        "id": "yrTqbA1ziHuL",
        "colab": {
          "base_uri": "https://localhost:8080/"
        },
        "outputId": "412937f2-d8c2-4724-8c2b-24804cd7a2e6"
      },
      "outputs": [
        {
          "output_type": "stream",
          "name": "stdout",
          "text": [
            "\n",
            " ========================== METRICS BY IMAGES ========================== \n",
            "ACC: 0.7443768432258037\n",
            "BACC: 0.6993808613146855\n",
            "F1: 0.544593290610854\n",
            "Recall: 0.6133480032710107\n",
            "Precision: 0.4924319179638328\n",
            "Specificity: 0.7854137193583602\n",
            "Sensitivity: 0.6133480032710107\n",
            "AUC: 0.797608226761601\n",
            "TP: 131.0\n",
            "TN: 463.0\n",
            "FP: 129.0\n",
            "FN: 75.33333333333333\n"
          ]
        }
      ],
      "source": [
        "print(\"\\n ========================== METRICS BY IMAGES ========================== \")\n",
        "print(f'ACC: {np.mean(global_acc)}')\n",
        "print(f'BACC: {np.mean(global_bacc)}')\n",
        "print(f'F1: {np.mean(global_f1)}')\n",
        "print(f'Recall: {np.mean(global_recall)}')\n",
        "print(f'Precision: {np.mean(global_precision)}')\n",
        "print(f'Specificity: {np.mean(global_specificity)}')\n",
        "print(f'Sensitivity: {np.mean(global_sensitivity)}')\n",
        "print(f'AUC: {np.mean(global_auc)}')\n",
        "print(f'TP: {np.mean(global_tp)}')\n",
        "print(f'TN: {np.mean(global_tn)}')\n",
        "print(f'FP: {np.mean(global_fp)}')\n",
        "print(f'FN: {np.mean(global_fn)}')"
      ]
    },
    {
      "cell_type": "markdown",
      "source": [
        "Plot roc curves with auc for each validation folder"
      ],
      "metadata": {
        "id": "cjhNmefOMPmN"
      }
    },
    {
      "cell_type": "code",
      "execution_count": null,
      "metadata": {
        "id": "nimf358aLfPs",
        "colab": {
          "base_uri": "https://localhost:8080/",
          "height": 499
        },
        "outputId": "3e2bf877-f787-4845-e77c-a8ab8559c404"
      },
      "outputs": [
        {
          "output_type": "display_data",
          "data": {
            "text/plain": [
              "<Figure size 720x576 with 1 Axes>"
            ],
            "image/png": "[encoded data removed]"
          },
          "metadata": {
            "needs_background": "light"
          }
        }
      ],
      "source": [
        "mean_fpr = np.linspace(0, 1, 100)\n",
        "\n",
        "tprs = []\n",
        "aucs = []\n",
        "\n",
        "for i, (fpr, tpr, _auc) in enumerate(roc_list):\n",
        "  interp_tpr = np.interp(mean_fpr, fpr, tpr)\n",
        "  interp_tpr[0] = 0.0\n",
        "  tprs.append(interp_tpr)\n",
        "  aucs.append(_auc)\n",
        "\n",
        "mean_tpr = np.mean(tprs, axis=0)\n",
        "mean_tpr[-1] = 1.0\n",
        "mean_auc = metrics.auc(mean_fpr, mean_tpr)\n",
        "std_auc = np.std(aucs)\n",
        "\n",
        "fig, ax = plt.subplots(figsize=(10,8))\n",
        "\n",
        "ax.plot([0, 1], [0, 1], linestyle=\"--\", lw=2, color=\"r\", label=\"Sorte\", alpha=0.8)\n",
        "\n",
        "ax.plot(\n",
        "    mean_fpr,\n",
        "    mean_tpr,\n",
        "    color=\"b\",\n",
        "    label=r\"Média ROC (AUC = %0.2f $\\pm$ %0.2f)\" % (mean_auc, std_auc),\n",
        "    lw=2,\n",
        "    alpha=0.8,\n",
        ")\n",
        "\n",
        "for i, (fpr, tpr, _auc) in enumerate(roc_list):\n",
        "  ax.plot(fpr, tpr, label='ROC pasta {:} (área AUC = {:.3f})'.format(i+1, _auc), alpha=0.5)\n",
        "\n",
        "std_tpr = np.std(tprs, axis=0)\n",
        "tprs_upper = np.minimum(mean_tpr + std_tpr, 1)\n",
        "tprs_lower = np.maximum(mean_tpr - std_tpr, 0)\n",
        "ax.fill_between(\n",
        "    mean_fpr,\n",
        "    tprs_lower,\n",
        "    tprs_upper,\n",
        "    color=\"grey\",\n",
        "    alpha=0.2,\n",
        "    label=r\"$\\pm$ 1 Std Deviation\",\n",
        ")\n",
        "\n",
        "ax.set(\n",
        "    xlim=[-0.05, 1.05],\n",
        "    ylim=[-0.05, 1.05],\n",
        "    title=\"ROC Curve Imagens\",\n",
        ")\n",
        "ax.legend(loc=\"lower right\")\n",
        "plt.show()"
      ]
    },
    {
      "cell_type": "markdown",
      "source": [
        "### Validation metrics by patient"
      ],
      "metadata": {
        "id": "m2mMl5OpMI_S"
      }
    },
    {
      "cell_type": "code",
      "execution_count": null,
      "metadata": {
        "id": "-vbD9PB2mzNy",
        "colab": {
          "base_uri": "https://localhost:8080/"
        },
        "outputId": "1679450e-3cfc-4392-ca57-4bdbfecbfb5e"
      },
      "outputs": [
        {
          "output_type": "stream",
          "name": "stdout",
          "text": [
            "\n",
            " ========================== METRICS BY PATIENT ========================== \n",
            "ACC: 0.8024691358024691\n",
            "BACC: 0.753968253968254\n",
            "F1: 0.5952380952380952\n",
            "Recall: 0.6666666666666666\n",
            "Precision: 0.5416666666666666\n",
            "Specificity: 0.8412698412698413\n",
            "Sensitivity: 0.6666666666666666\n",
            "AUC: 0.8253968253968255\n",
            "TP: 4.0\n",
            "TN: 17.666666666666668\n",
            "FP: 3.3333333333333335\n",
            "FN: 2.0\n"
          ]
        }
      ],
      "source": [
        "print(\"\\n ========================== METRICS BY PATIENT ========================== \")\n",
        "print(f'ACC: {np.mean(global_acc_p)}')\n",
        "print(f'BACC: {np.mean(global_bacc_p)}')\n",
        "print(f'F1: {np.mean(global_f1_p)}')\n",
        "print(f'Recall: {np.mean(global_recall_p)}')\n",
        "print(f'Precision: {np.mean(global_precision_p)}')\n",
        "print(f'Specificity: {np.mean(global_specificity_p)}')\n",
        "print(f'Sensitivity: {np.mean(global_sensitivity_p)}')\n",
        "print(f'AUC: {np.mean(global_auc_p)}')\n",
        "print(f'TP: {np.mean(global_tp_p)}')\n",
        "print(f'TN: {np.mean(global_tn_p)}')\n",
        "print(f'FP: {np.mean(global_fp_p)}')\n",
        "print(f'FN: {np.mean(global_fn_p)}')"
      ]
    },
    {
      "cell_type": "markdown",
      "source": [
        "Plot roc curve with auc for each validation folder for patients"
      ],
      "metadata": {
        "id": "q9yKIlkcMTH5"
      }
    },
    {
      "cell_type": "code",
      "execution_count": null,
      "metadata": {
        "id": "R2mRsHodm_rm",
        "colab": {
          "base_uri": "https://localhost:8080/",
          "height": 499
        },
        "outputId": "b759282d-41a7-42ad-9e9d-3a937e58d74e"
      },
      "outputs": [
        {
          "output_type": "display_data",
          "data": {
            "text/plain": [
              "<Figure size 720x576 with 1 Axes>"
            ],
            "image/png": "[encoded data removed]"
          },
          "metadata": {
            "needs_background": "light"
          }
        }
      ],
      "source": [
        "mean_fpr_p = np.linspace(0, 1, 100)\n",
        "\n",
        "tprs_p = []\n",
        "aucs_p = []\n",
        "\n",
        "for i, (fpr, tpr, _auc) in enumerate(roc_list_p):\n",
        "  interp_tpr = np.interp(mean_fpr_p, fpr, tpr)\n",
        "  interp_tpr[0] = 0.0\n",
        "  tprs_p.append(interp_tpr)\n",
        "  aucs_p.append(_auc)\n",
        "\n",
        "mean_tpr_p = np.mean(tprs_p, axis=0)\n",
        "mean_tpr_p[-1] = 1.0\n",
        "mean_auc_p = metrics.auc(mean_fpr_p, mean_tpr_p)\n",
        "std_auc_p = np.std(aucs_p)\n",
        "\n",
        "fig, ax = plt.subplots(figsize=(10,8))\n",
        "\n",
        "ax.plot([0, 1], [0, 1], linestyle=\"--\", lw=2, color=\"r\", label=\"Sorte\", alpha=0.8)\n",
        "\n",
        "ax.plot(\n",
        "    mean_fpr_p,\n",
        "    mean_tpr_p,\n",
        "    color=\"b\",\n",
        "    label=r\"ROC Mean (AUC = %0.2f $\\pm$ %0.2f)\" % (mean_auc_p, std_auc_p),\n",
        "    lw=2,\n",
        "    alpha=0.8,\n",
        ")\n",
        "\n",
        "for i, (fpr, tpr, _auc) in enumerate(roc_list_p):\n",
        "  ax.plot(fpr, tpr, label='ROC fold {:} (Area AUC = {:.3f})'.format(i+1, _auc), alpha=0.5)\n",
        "\n",
        "std_tpr_p = np.std(tprs_p, axis=0)\n",
        "tprs_upper_p = np.minimum(mean_tpr_p + std_tpr_p, 1)\n",
        "tprs_lower_p = np.maximum(mean_tpr_p - std_tpr_p, 0)\n",
        "ax.fill_between(\n",
        "    mean_fpr_p,\n",
        "    tprs_lower_p,\n",
        "    tprs_upper_p,\n",
        "    color=\"grey\",\n",
        "    alpha=0.2,\n",
        "    label=r\"$\\pm$ 1 Std Deviation\",\n",
        ")\n",
        "\n",
        "ax.set(\n",
        "    xlim=[-0.05, 1.05],\n",
        "    ylim=[-0.05, 1.05],\n",
        "    title=\"ROC Curve Patients\",\n",
        ")\n",
        "ax.legend(loc=\"lower right\")\n",
        "plt.show()"
      ]
    },
    {
      "cell_type": "markdown",
      "source": [
        "### Test metrics"
      ],
      "metadata": {
        "id": "zqKAw3-9MXGq"
      }
    },
    {
      "cell_type": "code",
      "source": [
        "global_acc_p = []\n",
        "global_bacc_p = []\n",
        "global_f1_p = []\n",
        "global_recall_p = []\n",
        "global_precision_p = []\n",
        "global_auc_p = []\n",
        "global_sensitivity_p = []\n",
        "global_specificity_p = []\n",
        "\n",
        "global_tn_p = []\n",
        "global_fp_p = []\n",
        "global_fn_p = []\n",
        "global_tp_p = []\n",
        "\n",
        "global_specificity_p = []\n",
        "global_sensitivity_p = []\n",
        "\n",
        "roc_list = []\n",
        "roc_list_p = []"
      ],
      "metadata": {
        "id": "ChIQ1VvxBj8R"
      },
      "execution_count": null,
      "outputs": []
    },
    {
      "cell_type": "markdown",
      "source": [
        "Predict test results using test data and generate metrics"
      ],
      "metadata": {
        "id": "GxRpCKV7MZkt"
      }
    },
    {
      "cell_type": "code",
      "source": [
        "for i in range(3):\n",
        "  # Test path\n",
        "  testDir = f'data/testDir'\n",
        "  testdir_path = pathlib.Path(testDir)\n",
        "\n",
        "  # Load model\n",
        "  model = tf.keras.models.load_model(f'model_{i+1}.h5')\n",
        "\n",
        "  # Download model\n",
        "  fs.download(f'model_{i+1}.h5')\n",
        "\n",
        "  # Compile model\n",
        "  model.compile(loss=tf.keras.losses.BinaryCrossentropy(), optimizer = tf.keras.optimizers.Nadam(learning_rate=lr))\n",
        "\n",
        "  # Get test files\n",
        "  test_files = tf.data.Dataset.list_files(str(testdir_path/'*/*'), seed=_seed)\n",
        "\n",
        "  # Labeled test data\n",
        "  labeled_ds_test = test_files.map(read_files)\n",
        "\n",
        "  # Generate predictions\n",
        "  prediction = []\n",
        "  _y = []\n",
        "  files = []\n",
        "\n",
        "  y_true_patients = {}\n",
        "  y_pred_patients = {}\n",
        "  y_probas_patients = {}\n",
        "\n",
        "  # Divide test data in batches\n",
        "  for p, z, y in labeled_ds_test.batch(batch_size):\n",
        "    # predict data\n",
        "    prediction.extend(model((p,get_tabular(z))).numpy().ravel())\n",
        "\n",
        "    # Get ground truth label\n",
        "    _y.extend(y.numpy())\n",
        "\n",
        "    # Get file name\n",
        "    files.extend(z)\n",
        "\n",
        "  # Get predictions by patient\n",
        "  for (y, _file, _pred, _prob) in zip(_y, files, (np.asarray(prediction) >= 0.5).astype(\"float\"), prediction):\n",
        "      _split = str(_file).split(\"/\")\n",
        "      _str = _split[len(_split) - 1].split(\"-\")[0]\n",
        "\n",
        "      if y_true_patients.get(_str) is None:\n",
        "          y_true_patients[_str] = y\n",
        "\n",
        "      if y_pred_patients.get(_str) is None:\n",
        "          y_pred_patients[_str] = [_pred]\n",
        "      else:\n",
        "          y_pred_patients[_str].append(_pred)\n",
        "\n",
        "      if y_probas_patients.get(_str) is None:\n",
        "          y_probas_patients[_str] = [_prob]\n",
        "      else:\n",
        "          y_probas_patients[_str].append(_prob)\n",
        "\n",
        "  # For each patient\n",
        "  for p in y_probas_patients:\n",
        "    # Probability is the median of images results\n",
        "    y_probas_patients[p] = np.median(y_probas_patients[p])\n",
        "\n",
        "    # Patient response is the mode of images results\n",
        "    y_pred_patients[p] = stats.mode((np.array(y_pred_patients[p]) >= 0.5).astype(\"float\"))[0][0]\n",
        "\n",
        "  y_true_p = np.array(list(y_true_patients.values()))\n",
        "  out_p = np.array(list(y_pred_patients.values()))\n",
        "  probas_p = np.array(list(y_probas_patients.values()))\n",
        "\n",
        "  # Generate test metrics\n",
        "  print(f'\\n *************************** AUC TEST PATIENTS {i+1} *************************** \\n')\n",
        "  # Test roc curve\n",
        "  fpr_keras_p, tpr_keras_p, thresholds_keras_p = metrics.roc_curve(y_true_p, probas_p)\n",
        "\n",
        "  # AUC\n",
        "  __auc_p = metrics.roc_auc_score(y_true_p, probas_p)\n",
        "\n",
        "  # Plot test roc curve with auc\n",
        "  plt.figure(1)\n",
        "  plt.plot([0, 1], [0, 1], 'k--')\n",
        "  plt.plot(fpr_keras_p, tpr_keras_p, label='AUC (area = {:.3f})'.format(__auc_p))\n",
        "  plt.xlabel('False positive')\n",
        "  plt.ylabel('True positive')\n",
        "  plt.title('Curva ROC Patients')\n",
        "  plt.legend(loc='best')\n",
        "  plt.show()\n",
        "\n",
        "  # Plot test data confusion matrix by patient\n",
        "  print(f'\\n *************************** CONFUSION MATRIX TEST PATIENTS {i+1} *************************** \\n')\n",
        "\n",
        "  print(metrics.confusion_matrix(y_true_p, out_p))\n",
        "  tn_p, fp_p, fn_p, tp_p = metrics.confusion_matrix(y_true_p, out_p).ravel()\n",
        "\n",
        "  global_tn_p.append(tn_p)\n",
        "  global_fp_p.append(fp_p)\n",
        "  global_fn_p.append(fn_p)\n",
        "  global_tp_p.append(tp_p)\n",
        "\n",
        "  try:\n",
        "      global_specificity_p.append(tn_p / (tn_p+fp_p))\n",
        "      global_sensitivity_p.append(tp_p / (tp_p+fn_p))\n",
        "  except Exception as e:\n",
        "      global_specificity_p.append(0)\n",
        "      global_sensitivity_p.append(0)\n",
        "\n",
        "  print(metrics.accuracy_score(y_true_p, out_p))\n",
        "  print(metrics.balanced_accuracy_score(y_true_p, out_p))\n",
        "  print(metrics.f1_score(y_true_p, out_p))\n",
        "  print(metrics.precision_score(y_true_p, out_p))\n",
        "  print(metrics.recall_score(y_true_p, out_p))\n",
        "  print(metrics.jaccard_score(y_true_p, out_p))\n",
        "\n",
        "  global_acc_p.append(metrics.accuracy_score(y_true_p, out_p))\n",
        "  global_bacc_p.append(metrics.balanced_accuracy_score(y_true_p, out_p))\n",
        "  global_f1_p.append(metrics.f1_score(y_true_p, out_p))\n",
        "  global_precision_p.append(metrics.precision_score(y_true_p, out_p))\n",
        "  global_recall_p.append(metrics.recall_score(y_true_p, out_p))\n",
        "  global_auc_p.append(__auc_p)\n",
        "\n",
        "  roc_list_p.append((fpr_keras_p, tpr_keras_p, __auc_p))"
      ],
      "metadata": {
        "id": "BORtcnKeD6CI",
        "colab": {
          "base_uri": "https://localhost:8080/",
          "height": 1000
        },
        "outputId": "776c25f8-4ccf-4ff9-8625-1399aba9908e"
      },
      "execution_count": null,
      "outputs": [
        {
          "output_type": "display_data",
          "data": {
            "text/plain": [
              "<IPython.core.display.Javascript object>"
            ],
            "application/javascript": [
              "\n",
              "    async function download(id, filename, size) {\n",
              "      if (!google.colab.kernel.accessAllowed) {\n",
              "        return;\n",
              "      }\n",
              "      const div = document.createElement('div');\n",
              "      const label = document.createElement('label');\n",
              "      label.textContent = `Downloading \"${filename}\": `;\n",
              "      div.appendChild(label);\n",
              "      const progress = document.createElement('progress');\n",
              "      progress.max = size;\n",
              "      div.appendChild(progress);\n",
              "      document.body.appendChild(div);\n",
              "\n",
              "      const buffers = [];\n",
              "      let downloaded = 0;\n",
              "\n",
              "      const channel = await google.colab.kernel.comms.open(id);\n",
              "      // Send a message to notify the kernel that we're ready.\n",
              "      channel.send({})\n",
              "\n",
              "      for await (const message of channel.messages) {\n",
              "        // Send a message to notify the kernel that we're ready.\n",
              "        channel.send({})\n",
              "        if (message.buffers) {\n",
              "          for (const buffer of message.buffers) {\n",
              "            buffers.push(buffer);\n",
              "            downloaded += buffer.byteLength;\n",
              "            progress.value = downloaded;\n",
              "          }\n",
              "        }\n",
              "      }\n",
              "      const blob = new Blob(buffers, {type: 'application/binary'});\n",
              "      const a = document.createElement('a');\n",
              "      a.href = window.URL.createObjectURL(blob);\n",
              "      a.download = filename;\n",
              "      div.appendChild(a);\n",
              "      a.click();\n",
              "      div.remove();\n",
              "    }\n",
              "  "
            ]
          },
          "metadata": {}
        },
        {
          "output_type": "display_data",
          "data": {
            "text/plain": [
              "<IPython.core.display.Javascript object>"
            ],
            "application/javascript": [
              "download(\"download_e4eb1f90-d739-4abd-9c2b-156a30de0773\", \"model_1.h5\", 44428360)"
            ]
          },
          "metadata": {}
        },
        {
          "output_type": "stream",
          "name": "stdout",
          "text": [
            "\n",
            " *************************** AUC TEST PATIENTS 1 *************************** \n",
            "\n"
          ]
        },
        {
          "output_type": "display_data",
          "data": {
            "text/plain": [
              "<Figure size 432x288 with 1 Axes>"
            ],
            "image/png": "[encoded data removed]"
          },
          "metadata": {
            "needs_background": "light"
          }
        },
        {
          "output_type": "stream",
          "name": "stdout",
          "text": [
            "\n",
            " *************************** CONFUSION MATRIX TEST PATIENTS 1 *************************** \n",
            "\n",
            "[[20  4]\n",
            " [ 2  4]]\n",
            "0.8\n",
            "0.75\n",
            "0.5714285714285715\n",
            "0.5\n",
            "0.6666666666666666\n",
            "0.4\n"
          ]
        },
        {
          "output_type": "display_data",
          "data": {
            "text/plain": [
              "<IPython.core.display.Javascript object>"
            ],
            "application/javascript": [
              "\n",
              "    async function download(id, filename, size) {\n",
              "      if (!google.colab.kernel.accessAllowed) {\n",
              "        return;\n",
              "      }\n",
              "      const div = document.createElement('div');\n",
              "      const label = document.createElement('label');\n",
              "      label.textContent = `Downloading \"${filename}\": `;\n",
              "      div.appendChild(label);\n",
              "      const progress = document.createElement('progress');\n",
              "      progress.max = size;\n",
              "      div.appendChild(progress);\n",
              "      document.body.appendChild(div);\n",
              "\n",
              "      const buffers = [];\n",
              "      let downloaded = 0;\n",
              "\n",
              "      const channel = await google.colab.kernel.comms.open(id);\n",
              "      // Send a message to notify the kernel that we're ready.\n",
              "      channel.send({})\n",
              "\n",
              "      for await (const message of channel.messages) {\n",
              "        // Send a message to notify the kernel that we're ready.\n",
              "        channel.send({})\n",
              "        if (message.buffers) {\n",
              "          for (const buffer of message.buffers) {\n",
              "            buffers.push(buffer);\n",
              "            downloaded += buffer.byteLength;\n",
              "            progress.value = downloaded;\n",
              "          }\n",
              "        }\n",
              "      }\n",
              "      const blob = new Blob(buffers, {type: 'application/binary'});\n",
              "      const a = document.createElement('a');\n",
              "      a.href = window.URL.createObjectURL(blob);\n",
              "      a.download = filename;\n",
              "      div.appendChild(a);\n",
              "      a.click();\n",
              "      div.remove();\n",
              "    }\n",
              "  "
            ]
          },
          "metadata": {}
        },
        {
          "output_type": "display_data",
          "data": {
            "text/plain": [
              "<IPython.core.display.Javascript object>"
            ],
            "application/javascript": [
              "download(\"download_6062645c-37ef-40d1-a56d-a4c9a7aecc3b\", \"results-patients-test1.json\", 1320)"
            ]
          },
          "metadata": {}
        },
        {
          "output_type": "display_data",
          "data": {
            "text/plain": [
              "<IPython.core.display.Javascript object>"
            ],
            "application/javascript": [
              "\n",
              "    async function download(id, filename, size) {\n",
              "      if (!google.colab.kernel.accessAllowed) {\n",
              "        return;\n",
              "      }\n",
              "      const div = document.createElement('div');\n",
              "      const label = document.createElement('label');\n",
              "      label.textContent = `Downloading \"${filename}\": `;\n",
              "      div.appendChild(label);\n",
              "      const progress = document.createElement('progress');\n",
              "      progress.max = size;\n",
              "      div.appendChild(progress);\n",
              "      document.body.appendChild(div);\n",
              "\n",
              "      const buffers = [];\n",
              "      let downloaded = 0;\n",
              "\n",
              "      const channel = await google.colab.kernel.comms.open(id);\n",
              "      // Send a message to notify the kernel that we're ready.\n",
              "      channel.send({})\n",
              "\n",
              "      for await (const message of channel.messages) {\n",
              "        // Send a message to notify the kernel that we're ready.\n",
              "        channel.send({})\n",
              "        if (message.buffers) {\n",
              "          for (const buffer of message.buffers) {\n",
              "            buffers.push(buffer);\n",
              "            downloaded += buffer.byteLength;\n",
              "            progress.value = downloaded;\n",
              "          }\n",
              "        }\n",
              "      }\n",
              "      const blob = new Blob(buffers, {type: 'application/binary'});\n",
              "      const a = document.createElement('a');\n",
              "      a.href = window.URL.createObjectURL(blob);\n",
              "      a.download = filename;\n",
              "      div.appendChild(a);\n",
              "      a.click();\n",
              "      div.remove();\n",
              "    }\n",
              "  "
            ]
          },
          "metadata": {}
        },
        {
          "output_type": "display_data",
          "data": {
            "text/plain": [
              "<IPython.core.display.Javascript object>"
            ],
            "application/javascript": [
              "download(\"download_f3e3b7a5-f7d3-4544-9942-f4f15cfca083\", \"model_2.h5\", 44428336)"
            ]
          },
          "metadata": {}
        },
        {
          "output_type": "stream",
          "name": "stdout",
          "text": [
            "\n",
            " *************************** AUC TEST PATIENTS 2 *************************** \n",
            "\n"
          ]
        },
        {
          "output_type": "display_data",
          "data": {
            "text/plain": [
              "<Figure size 432x288 with 1 Axes>"
            ],
            "image/png": "[encoded data removed]"
          },
          "metadata": {
            "needs_background": "light"
          }
        },
        {
          "output_type": "stream",
          "name": "stdout",
          "text": [
            "\n",
            " *************************** CONFUSION MATRIX TEST PATIENTS 2 *************************** \n",
            "\n",
            "[[20  4]\n",
            " [ 5  1]]\n",
            "0.7\n",
            "0.5\n",
            "0.1818181818181818\n",
            "0.2\n",
            "0.16666666666666666\n",
            "0.1\n"
          ]
        },
        {
          "output_type": "display_data",
          "data": {
            "text/plain": [
              "<IPython.core.display.Javascript object>"
            ],
            "application/javascript": [
              "\n",
              "    async function download(id, filename, size) {\n",
              "      if (!google.colab.kernel.accessAllowed) {\n",
              "        return;\n",
              "      }\n",
              "      const div = document.createElement('div');\n",
              "      const label = document.createElement('label');\n",
              "      label.textContent = `Downloading \"${filename}\": `;\n",
              "      div.appendChild(label);\n",
              "      const progress = document.createElement('progress');\n",
              "      progress.max = size;\n",
              "      div.appendChild(progress);\n",
              "      document.body.appendChild(div);\n",
              "\n",
              "      const buffers = [];\n",
              "      let downloaded = 0;\n",
              "\n",
              "      const channel = await google.colab.kernel.comms.open(id);\n",
              "      // Send a message to notify the kernel that we're ready.\n",
              "      channel.send({})\n",
              "\n",
              "      for await (const message of channel.messages) {\n",
              "        // Send a message to notify the kernel that we're ready.\n",
              "        channel.send({})\n",
              "        if (message.buffers) {\n",
              "          for (const buffer of message.buffers) {\n",
              "            buffers.push(buffer);\n",
              "            downloaded += buffer.byteLength;\n",
              "            progress.value = downloaded;\n",
              "          }\n",
              "        }\n",
              "      }\n",
              "      const blob = new Blob(buffers, {type: 'application/binary'});\n",
              "      const a = document.createElement('a');\n",
              "      a.href = window.URL.createObjectURL(blob);\n",
              "      a.download = filename;\n",
              "      div.appendChild(a);\n",
              "      a.click();\n",
              "      div.remove();\n",
              "    }\n",
              "  "
            ]
          },
          "metadata": {}
        },
        {
          "output_type": "display_data",
          "data": {
            "text/plain": [
              "<IPython.core.display.Javascript object>"
            ],
            "application/javascript": [
              "download(\"download_466ea47b-ae03-4507-be8c-cdf9bfd8fac7\", \"results-patients-test2.json\", 1320)"
            ]
          },
          "metadata": {}
        },
        {
          "output_type": "display_data",
          "data": {
            "text/plain": [
              "<IPython.core.display.Javascript object>"
            ],
            "application/javascript": [
              "\n",
              "    async function download(id, filename, size) {\n",
              "      if (!google.colab.kernel.accessAllowed) {\n",
              "        return;\n",
              "      }\n",
              "      const div = document.createElement('div');\n",
              "      const label = document.createElement('label');\n",
              "      label.textContent = `Downloading \"${filename}\": `;\n",
              "      div.appendChild(label);\n",
              "      const progress = document.createElement('progress');\n",
              "      progress.max = size;\n",
              "      div.appendChild(progress);\n",
              "      document.body.appendChild(div);\n",
              "\n",
              "      const buffers = [];\n",
              "      let downloaded = 0;\n",
              "\n",
              "      const channel = await google.colab.kernel.comms.open(id);\n",
              "      // Send a message to notify the kernel that we're ready.\n",
              "      channel.send({})\n",
              "\n",
              "      for await (const message of channel.messages) {\n",
              "        // Send a message to notify the kernel that we're ready.\n",
              "        channel.send({})\n",
              "        if (message.buffers) {\n",
              "          for (const buffer of message.buffers) {\n",
              "            buffers.push(buffer);\n",
              "            downloaded += buffer.byteLength;\n",
              "            progress.value = downloaded;\n",
              "          }\n",
              "        }\n",
              "      }\n",
              "      const blob = new Blob(buffers, {type: 'application/binary'});\n",
              "      const a = document.createElement('a');\n",
              "      a.href = window.URL.createObjectURL(blob);\n",
              "      a.download = filename;\n",
              "      div.appendChild(a);\n",
              "      a.click();\n",
              "      div.remove();\n",
              "    }\n",
              "  "
            ]
          },
          "metadata": {}
        },
        {
          "output_type": "display_data",
          "data": {
            "text/plain": [
              "<IPython.core.display.Javascript object>"
            ],
            "application/javascript": [
              "download(\"download_308e769d-eef5-4def-8624-0c0378e7c5af\", \"model_3.h5\", 44428336)"
            ]
          },
          "metadata": {}
        },
        {
          "output_type": "stream",
          "name": "stdout",
          "text": [
            "\n",
            " *************************** AUC TEST PATIENTS 3 *************************** \n",
            "\n"
          ]
        },
        {
          "output_type": "display_data",
          "data": {
            "text/plain": [
              "<Figure size 432x288 with 1 Axes>"
            ],
            "image/png": "[encoded data removed]"
          },
          "metadata": {
            "needs_background": "light"
          }
        },
        {
          "output_type": "stream",
          "name": "stdout",
          "text": [
            "\n",
            " *************************** CONFUSION MATRIX TEST PATIENTS 3 *************************** \n",
            "\n",
            "[[20  4]\n",
            " [ 1  5]]\n",
            "0.8333333333333334\n",
            "0.8333333333333334\n",
            "0.6666666666666667\n",
            "0.5555555555555556\n",
            "0.8333333333333334\n",
            "0.5\n"
          ]
        },
        {
          "output_type": "display_data",
          "data": {
            "text/plain": [
              "<IPython.core.display.Javascript object>"
            ],
            "application/javascript": [
              "\n",
              "    async function download(id, filename, size) {\n",
              "      if (!google.colab.kernel.accessAllowed) {\n",
              "        return;\n",
              "      }\n",
              "      const div = document.createElement('div');\n",
              "      const label = document.createElement('label');\n",
              "      label.textContent = `Downloading \"${filename}\": `;\n",
              "      div.appendChild(label);\n",
              "      const progress = document.createElement('progress');\n",
              "      progress.max = size;\n",
              "      div.appendChild(progress);\n",
              "      document.body.appendChild(div);\n",
              "\n",
              "      const buffers = [];\n",
              "      let downloaded = 0;\n",
              "\n",
              "      const channel = await google.colab.kernel.comms.open(id);\n",
              "      // Send a message to notify the kernel that we're ready.\n",
              "      channel.send({})\n",
              "\n",
              "      for await (const message of channel.messages) {\n",
              "        // Send a message to notify the kernel that we're ready.\n",
              "        channel.send({})\n",
              "        if (message.buffers) {\n",
              "          for (const buffer of message.buffers) {\n",
              "            buffers.push(buffer);\n",
              "            downloaded += buffer.byteLength;\n",
              "            progress.value = downloaded;\n",
              "          }\n",
              "        }\n",
              "      }\n",
              "      const blob = new Blob(buffers, {type: 'application/binary'});\n",
              "      const a = document.createElement('a');\n",
              "      a.href = window.URL.createObjectURL(blob);\n",
              "      a.download = filename;\n",
              "      div.appendChild(a);\n",
              "      a.click();\n",
              "      div.remove();\n",
              "    }\n",
              "  "
            ]
          },
          "metadata": {}
        },
        {
          "output_type": "display_data",
          "data": {
            "text/plain": [
              "<IPython.core.display.Javascript object>"
            ],
            "application/javascript": [
              "download(\"download_d8f6d638-da0d-47a8-957c-bedbdf9e6436\", \"results-patients-test3.json\", 1320)"
            ]
          },
          "metadata": {}
        }
      ]
    },
    {
      "cell_type": "markdown",
      "source": [
        "Mean test metrics"
      ],
      "metadata": {
        "id": "hbiuQ-gvNJ3w"
      }
    },
    {
      "cell_type": "code",
      "source": [
        "print(\"\\n ========================== METRICS BY PATIENT ========================== \")\n",
        "print(f'ACC: {np.mean(global_acc_p)}')\n",
        "print(f'BACC: {np.mean(global_bacc_p)}')\n",
        "print(f'F1: {np.mean(global_f1_p)}')\n",
        "print(f'Recall: {np.mean(global_recall_p)}')\n",
        "print(f'Precision: {np.mean(global_precision_p)}')\n",
        "print(f'Specificity: {np.mean(global_specificity_p)}')\n",
        "print(f'Sensitivity: {np.mean(global_sensitivity_p)}')\n",
        "print(f'AUC: {np.mean(global_auc_p)}')\n",
        "print(f'TP: {np.mean(global_tp_p)}')\n",
        "print(f'TN: {np.mean(global_tn_p)}')\n",
        "print(f'FP: {np.mean(global_fp_p)}')\n",
        "print(f'FN: {np.mean(global_fn_p)}')\n",
        "\n",
        "mean_fpr_p = np.linspace(0, 1, 100)\n",
        "\n",
        "tprs_p = []\n",
        "aucs_p = []\n",
        "\n",
        "for i, (fpr, tpr, _auc) in enumerate(roc_list_p):\n",
        "  interp_tpr = np.interp(mean_fpr_p, fpr, tpr)\n",
        "  interp_tpr[0] = 0.0\n",
        "  tprs_p.append(interp_tpr)\n",
        "  aucs_p.append(_auc)\n",
        "\n",
        "mean_tpr_p = np.mean(tprs_p, axis=0)\n",
        "mean_tpr_p[-1] = 1.0\n",
        "mean_auc_p = metrics.auc(mean_fpr_p, mean_tpr_p)\n",
        "std_auc_p = np.std(aucs_p)\n",
        "\n",
        "fig, ax = plt.subplots(figsize=(10,8))\n",
        "\n",
        "ax.plot([0, 1], [0, 1], linestyle=\"--\", lw=2, color=\"r\", label=\"Sorte\", alpha=0.8)\n",
        "\n",
        "ax.plot(\n",
        "    mean_fpr_p,\n",
        "    mean_tpr_p,\n",
        "    color=\"b\",\n",
        "    label=r\"Média ROC (AUC = %0.2f $\\pm$ %0.2f)\" % (mean_auc_p, std_auc_p),\n",
        "    lw=2,\n",
        "    alpha=0.8,\n",
        ")\n",
        "\n",
        "for i, (fpr, tpr, _auc) in enumerate(roc_list_p):\n",
        "  ax.plot(fpr, tpr, label='ROC fold {:} (Area AUC = {:.3f})'.format(i+1, _auc), alpha=0.5)\n",
        "\n",
        "std_tpr_p = np.std(tprs_p, axis=0)\n",
        "tprs_upper_p = np.minimum(mean_tpr_p + std_tpr_p, 1)\n",
        "tprs_lower_p = np.maximum(mean_tpr_p - std_tpr_p, 0)\n",
        "ax.fill_between(\n",
        "    mean_fpr_p,\n",
        "    tprs_lower_p,\n",
        "    tprs_upper_p,\n",
        "    color=\"grey\",\n",
        "    alpha=0.2,\n",
        "    label=r\"$\\pm$ 1 Std Deviation\",\n",
        ")\n",
        "\n",
        "ax.set(\n",
        "    xlim=[-0.05, 1.05],\n",
        "    ylim=[-0.05, 1.05],\n",
        "    title=\"ROC Curve Patients\",\n",
        ")\n",
        "ax.legend(loc=\"lower right\")\n",
        "plt.show()"
      ],
      "metadata": {
        "id": "MqYUab0bB3X9",
        "colab": {
          "base_uri": "https://localhost:8080/",
          "height": 742
        },
        "outputId": "9ee0ad89-5887-4efa-9846-a3c52b1f4569"
      },
      "execution_count": null,
      "outputs": [
        {
          "output_type": "stream",
          "name": "stdout",
          "text": [
            "\n",
            " ========================== METRICS BY PATIENT ========================== \n",
            "ACC: 0.7777777777777778\n",
            "BACC: 0.6944444444444445\n",
            "F1: 0.47330447330447334\n",
            "Recall: 0.5555555555555555\n",
            "Precision: 0.4185185185185185\n",
            "Specificity: 0.8333333333333334\n",
            "Sensitivity: 0.5555555555555555\n",
            "AUC: 0.8182870370370369\n",
            "TP: 3.3333333333333335\n",
            "TN: 20.0\n",
            "FP: 4.0\n",
            "FN: 2.6666666666666665\n"
          ]
        },
        {
          "output_type": "display_data",
          "data": {
            "text/plain": [
              "<Figure size 720x576 with 1 Axes>"
            ],
            "image/png": "[encoded data removed]"
          },
          "metadata": {
            "needs_background": "light"
          }
        }
      ]
    }
  ],
  "metadata": {
    "accelerator": "GPU",
    "colab": {
      "machine_shape": "hm",
      "provenance": [],
      "toc_visible": true
    },
    "kernelspec": {
      "display_name": "Python 3",
      "name": "python3"
    },
    "language_info": {
      "name": "python"
    },
    "gpuClass": "standard"
  },
  "nbformat": 4,
  "nbformat_minor": 0
}